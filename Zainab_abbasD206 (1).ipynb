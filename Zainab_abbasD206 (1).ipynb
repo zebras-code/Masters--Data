{
 "cells": [
  {
   "cell_type": "code",
   "execution_count": 4011,
   "id": "b9ee7c20-91d5-446c-a06e-6e6c825ad2f5",
   "metadata": {
    "editable": true,
    "slideshow": {
     "slide_type": ""
    },
    "tags": []
   },
   "outputs": [],
   "source": [
    "#import packages\n",
    "import numpy as np \n",
    "import pandas as pd\n",
    "from pandas import DataFrame \n",
    "import scipy.stats as stats \n",
    "import matplotlib.pyplot as plt \n",
    "import seaborn as sns \n",
    "from sklearn.decomposition import PCA \n",
    "from sklearn.preprocessing import StandardScaler"
   ]
  },
  {
   "cell_type": "code",
   "execution_count": 4013,
   "id": "2a44a1fc-a119-4aec-b989-a5e4718dda97",
   "metadata": {
    "editable": true,
    "slideshow": {
     "slide_type": ""
    },
    "tags": []
   },
   "outputs": [],
   "source": [
    "#import medical_raw_data_spreadsheet into the enviorment\n",
    "df = pd.read_excel(\"medical_raw_data.xlsx\")"
   ]
  },
  {
   "cell_type": "code",
   "execution_count": 4015,
   "id": "c950d04d-1b18-40a5-a661-659e6fa3c77b",
   "metadata": {
    "editable": true,
    "slideshow": {
     "slide_type": ""
    },
    "tags": []
   },
   "outputs": [],
   "source": [
    "#rename the first column to make it an index in the dataset. \n",
    "df.rename( columns={'Unnamed: 0':'index'}, inplace=True )\n",
    "df['index'] = pd.Series(range(0,10000))"
   ]
  },
  {
   "cell_type": "code",
   "execution_count": 4017,
   "id": "beb17475-981d-4bd8-86d7-09d57a49f8f8",
   "metadata": {
    "editable": true,
    "slideshow": {
     "slide_type": ""
    },
    "tags": []
   },
   "outputs": [
    {
     "name": "stdout",
     "output_type": "stream",
     "text": [
      "<class 'pandas.core.frame.DataFrame'>\n",
      "RangeIndex: 10000 entries, 0 to 9999\n",
      "Data columns (total 53 columns):\n",
      " #   Column              Non-Null Count  Dtype  \n",
      "---  ------              --------------  -----  \n",
      " 0   index               10000 non-null  int64  \n",
      " 1   CaseOrder           10000 non-null  int64  \n",
      " 2   Customer_id         10000 non-null  object \n",
      " 3   Interaction         10000 non-null  object \n",
      " 4   UID                 10000 non-null  object \n",
      " 5   City                10000 non-null  object \n",
      " 6   State               10000 non-null  object \n",
      " 7   County              10000 non-null  object \n",
      " 8   Zip                 10000 non-null  int64  \n",
      " 9   Lat                 10000 non-null  float64\n",
      " 10  Lng                 10000 non-null  float64\n",
      " 11  Population          10000 non-null  int64  \n",
      " 12  Area                10000 non-null  object \n",
      " 13  Timezone            10000 non-null  object \n",
      " 14  Job                 10000 non-null  object \n",
      " 15  Children            7412 non-null   float64\n",
      " 16  Age                 7586 non-null   float64\n",
      " 17  Education           10000 non-null  object \n",
      " 18  Employment          10000 non-null  object \n",
      " 19  Income              7536 non-null   float64\n",
      " 20  Marital             10000 non-null  object \n",
      " 21  Gender              10000 non-null  object \n",
      " 22  ReAdmis             10000 non-null  object \n",
      " 23  VitD_levels         10000 non-null  float64\n",
      " 24  Doc_visits          10000 non-null  int64  \n",
      " 25  Full_meals_eaten    10000 non-null  int64  \n",
      " 26  VitD_supp           10000 non-null  int64  \n",
      " 27  Soft_drink          7533 non-null   object \n",
      " 28  Initial_admin       10000 non-null  object \n",
      " 29  HighBlood           10000 non-null  object \n",
      " 30  Stroke              10000 non-null  object \n",
      " 31  Complication_risk   10000 non-null  object \n",
      " 32  Overweight          9018 non-null   float64\n",
      " 33  Arthritis           10000 non-null  object \n",
      " 34  Diabetes            10000 non-null  object \n",
      " 35  Hyperlipidemia      10000 non-null  object \n",
      " 36  BackPain            10000 non-null  object \n",
      " 37  Anxiety             9016 non-null   float64\n",
      " 38  Allergic_rhinitis   10000 non-null  object \n",
      " 39  Reflux_esophagitis  10000 non-null  object \n",
      " 40  Asthma              10000 non-null  object \n",
      " 41  Services            10000 non-null  object \n",
      " 42  Initial_days        8944 non-null   float64\n",
      " 43  TotalCharge         10000 non-null  float64\n",
      " 44  Additional_charges  10000 non-null  float64\n",
      " 45  Item1               10000 non-null  int64  \n",
      " 46  Item2               10000 non-null  int64  \n",
      " 47  Item3               10000 non-null  int64  \n",
      " 48  Item4               10000 non-null  int64  \n",
      " 49  Item5               10000 non-null  int64  \n",
      " 50  Item6               10000 non-null  int64  \n",
      " 51  Item7               10000 non-null  int64  \n",
      " 52  Item8               10000 non-null  int64  \n",
      "dtypes: float64(11), int64(15), object(27)\n",
      "memory usage: 4.0+ MB\n"
     ]
    }
   ],
   "source": [
    "#display all the columns in my spreadsheet with their respective data type:\n",
    "df.info()"
   ]
  },
  {
   "cell_type": "code",
   "execution_count": 4019,
   "id": "1b4c0b2c-7892-4f25-b09b-4d4a617e4181",
   "metadata": {
    "editable": true,
    "slideshow": {
     "slide_type": ""
    },
    "tags": []
   },
   "outputs": [
    {
     "data": {
      "text/plain": [
       "index                    0\n",
       "CaseOrder                0\n",
       "Customer_id              0\n",
       "Interaction              0\n",
       "UID                      0\n",
       "City                     0\n",
       "State                    0\n",
       "County                   0\n",
       "Zip                      0\n",
       "Lat                      0\n",
       "Lng                      0\n",
       "Population               0\n",
       "Area                     0\n",
       "Timezone                 0\n",
       "Job                      0\n",
       "Children              2588\n",
       "Age                   2414\n",
       "Education                0\n",
       "Employment               0\n",
       "Income                2464\n",
       "Marital                  0\n",
       "Gender                   0\n",
       "ReAdmis                  0\n",
       "VitD_levels              0\n",
       "Doc_visits               0\n",
       "Full_meals_eaten         0\n",
       "VitD_supp                0\n",
       "Soft_drink            2467\n",
       "Initial_admin            0\n",
       "HighBlood                0\n",
       "Stroke                   0\n",
       "Complication_risk        0\n",
       "Overweight             982\n",
       "Arthritis                0\n",
       "Diabetes                 0\n",
       "Hyperlipidemia           0\n",
       "BackPain                 0\n",
       "Anxiety                984\n",
       "Allergic_rhinitis        0\n",
       "Reflux_esophagitis       0\n",
       "Asthma                   0\n",
       "Services                 0\n",
       "Initial_days          1056\n",
       "TotalCharge              0\n",
       "Additional_charges       0\n",
       "Item1                    0\n",
       "Item2                    0\n",
       "Item3                    0\n",
       "Item4                    0\n",
       "Item5                    0\n",
       "Item6                    0\n",
       "Item7                    0\n",
       "Item8                    0\n",
       "dtype: int64"
      ]
     },
     "execution_count": 4019,
     "metadata": {},
     "output_type": "execute_result"
    }
   ],
   "source": [
    "#detect the columns with null values\n",
    "pd.isnull(df).sum() "
   ]
  },
  {
   "cell_type": "code",
   "execution_count": 4023,
   "id": "f961dd89-01e0-45de-93cd-dbe2bccc092e",
   "metadata": {
    "editable": true,
    "slideshow": {
     "slide_type": ""
    },
    "tags": []
   },
   "outputs": [
    {
     "name": "stdout",
     "output_type": "stream",
     "text": [
      "Number of Duplicates: 0       False\n",
      "1       False\n",
      "2       False\n",
      "3       False\n",
      "4       False\n",
      "        ...  \n",
      "9995    False\n",
      "9996    False\n",
      "9997    False\n",
      "9998    False\n",
      "9999    False\n",
      "Length: 10000, dtype: bool\n"
     ]
    }
   ],
   "source": [
    "# Find duplicates in my DataFrame \n",
    "duplicate_counts = df.duplicated()\n",
    "print(\"Number of Duplicates:\", duplicate_counts) \n",
    "pd.set_option('display.max_rows', 10)  # Show a maximum of 10 rows"
   ]
  },
  {
   "cell_type": "code",
   "execution_count": 4025,
   "id": "2fa45a03-3ba9-4829-9daf-d7c111a031f7",
   "metadata": {
    "editable": true,
    "slideshow": {
     "slide_type": ""
    },
    "tags": []
   },
   "outputs": [
    {
     "data": {
      "text/html": [
       "<div>\n",
       "<style scoped>\n",
       "    .dataframe tbody tr th:only-of-type {\n",
       "        vertical-align: middle;\n",
       "    }\n",
       "\n",
       "    .dataframe tbody tr th {\n",
       "        vertical-align: top;\n",
       "    }\n",
       "\n",
       "    .dataframe thead th {\n",
       "        text-align: right;\n",
       "    }\n",
       "</style>\n",
       "<table border=\"1\" class=\"dataframe\">\n",
       "  <thead>\n",
       "    <tr style=\"text-align: right;\">\n",
       "      <th></th>\n",
       "      <th>index</th>\n",
       "      <th>CaseOrder</th>\n",
       "      <th>Zip</th>\n",
       "      <th>Lat</th>\n",
       "      <th>Lng</th>\n",
       "      <th>Population</th>\n",
       "      <th>Children</th>\n",
       "      <th>Age</th>\n",
       "      <th>Income</th>\n",
       "      <th>VitD_levels</th>\n",
       "      <th>Doc_visits</th>\n",
       "      <th>Full_meals_eaten</th>\n",
       "      <th>VitD_supp</th>\n",
       "      <th>Overweight</th>\n",
       "      <th>Anxiety</th>\n",
       "      <th>Initial_days</th>\n",
       "      <th>TotalCharge</th>\n",
       "      <th>Additional_charges</th>\n",
       "      <th>Item1</th>\n",
       "      <th>Item2</th>\n",
       "      <th>Item3</th>\n",
       "      <th>Item4</th>\n",
       "      <th>Item5</th>\n",
       "      <th>Item6</th>\n",
       "      <th>Item7</th>\n",
       "      <th>Item8</th>\n",
       "    </tr>\n",
       "  </thead>\n",
       "  <tbody>\n",
       "    <tr>\n",
       "      <th>count</th>\n",
       "      <td>10000.00000</td>\n",
       "      <td>10000.00000</td>\n",
       "      <td>10000.000000</td>\n",
       "      <td>10000.000000</td>\n",
       "      <td>10000.000000</td>\n",
       "      <td>10000.000000</td>\n",
       "      <td>7412.000000</td>\n",
       "      <td>7586.000000</td>\n",
       "      <td>7536.000000</td>\n",
       "      <td>10000.000000</td>\n",
       "      <td>10000.000000</td>\n",
       "      <td>10000.000000</td>\n",
       "      <td>10000.000000</td>\n",
       "      <td>9018.000000</td>\n",
       "      <td>9016.000000</td>\n",
       "      <td>8944.000000</td>\n",
       "      <td>10000.000000</td>\n",
       "      <td>10000.000000</td>\n",
       "      <td>10000.000000</td>\n",
       "      <td>10000.000000</td>\n",
       "      <td>10000.000000</td>\n",
       "      <td>10000.000000</td>\n",
       "      <td>10000.000000</td>\n",
       "      <td>10000.000000</td>\n",
       "      <td>10000.000000</td>\n",
       "      <td>10000.000000</td>\n",
       "    </tr>\n",
       "    <tr>\n",
       "      <th>mean</th>\n",
       "      <td>4999.50000</td>\n",
       "      <td>5000.50000</td>\n",
       "      <td>50159.323900</td>\n",
       "      <td>38.751099</td>\n",
       "      <td>-91.243080</td>\n",
       "      <td>9965.253800</td>\n",
       "      <td>2.098219</td>\n",
       "      <td>53.295676</td>\n",
       "      <td>40484.438268</td>\n",
       "      <td>19.412675</td>\n",
       "      <td>5.012200</td>\n",
       "      <td>1.001400</td>\n",
       "      <td>0.398900</td>\n",
       "      <td>0.709137</td>\n",
       "      <td>0.322316</td>\n",
       "      <td>34.432082</td>\n",
       "      <td>5891.538261</td>\n",
       "      <td>12934.528586</td>\n",
       "      <td>3.518800</td>\n",
       "      <td>3.506700</td>\n",
       "      <td>3.511100</td>\n",
       "      <td>3.515100</td>\n",
       "      <td>3.496900</td>\n",
       "      <td>3.522500</td>\n",
       "      <td>3.494000</td>\n",
       "      <td>3.509700</td>\n",
       "    </tr>\n",
       "    <tr>\n",
       "      <th>std</th>\n",
       "      <td>2886.89568</td>\n",
       "      <td>2886.89568</td>\n",
       "      <td>27469.588208</td>\n",
       "      <td>5.403085</td>\n",
       "      <td>15.205998</td>\n",
       "      <td>14824.758614</td>\n",
       "      <td>2.155427</td>\n",
       "      <td>20.659182</td>\n",
       "      <td>28664.861050</td>\n",
       "      <td>6.723277</td>\n",
       "      <td>1.045734</td>\n",
       "      <td>1.008117</td>\n",
       "      <td>0.628505</td>\n",
       "      <td>0.454186</td>\n",
       "      <td>0.467389</td>\n",
       "      <td>26.287050</td>\n",
       "      <td>3377.558136</td>\n",
       "      <td>6542.601544</td>\n",
       "      <td>1.031966</td>\n",
       "      <td>1.034825</td>\n",
       "      <td>1.032755</td>\n",
       "      <td>1.036282</td>\n",
       "      <td>1.030192</td>\n",
       "      <td>1.032376</td>\n",
       "      <td>1.021405</td>\n",
       "      <td>1.042312</td>\n",
       "    </tr>\n",
       "    <tr>\n",
       "      <th>min</th>\n",
       "      <td>0.00000</td>\n",
       "      <td>1.00000</td>\n",
       "      <td>610.000000</td>\n",
       "      <td>17.967190</td>\n",
       "      <td>-174.209690</td>\n",
       "      <td>0.000000</td>\n",
       "      <td>0.000000</td>\n",
       "      <td>18.000000</td>\n",
       "      <td>154.080000</td>\n",
       "      <td>9.519012</td>\n",
       "      <td>1.000000</td>\n",
       "      <td>0.000000</td>\n",
       "      <td>0.000000</td>\n",
       "      <td>0.000000</td>\n",
       "      <td>0.000000</td>\n",
       "      <td>1.001981</td>\n",
       "      <td>1256.751699</td>\n",
       "      <td>3125.702716</td>\n",
       "      <td>1.000000</td>\n",
       "      <td>1.000000</td>\n",
       "      <td>1.000000</td>\n",
       "      <td>1.000000</td>\n",
       "      <td>1.000000</td>\n",
       "      <td>1.000000</td>\n",
       "      <td>1.000000</td>\n",
       "      <td>1.000000</td>\n",
       "    </tr>\n",
       "    <tr>\n",
       "      <th>25%</th>\n",
       "      <td>2499.75000</td>\n",
       "      <td>2500.75000</td>\n",
       "      <td>27592.000000</td>\n",
       "      <td>35.255120</td>\n",
       "      <td>-97.352982</td>\n",
       "      <td>694.750000</td>\n",
       "      <td>0.000000</td>\n",
       "      <td>35.000000</td>\n",
       "      <td>19450.792500</td>\n",
       "      <td>16.513171</td>\n",
       "      <td>4.000000</td>\n",
       "      <td>0.000000</td>\n",
       "      <td>0.000000</td>\n",
       "      <td>0.000000</td>\n",
       "      <td>0.000000</td>\n",
       "      <td>7.911709</td>\n",
       "      <td>3253.239465</td>\n",
       "      <td>7986.487642</td>\n",
       "      <td>3.000000</td>\n",
       "      <td>3.000000</td>\n",
       "      <td>3.000000</td>\n",
       "      <td>3.000000</td>\n",
       "      <td>3.000000</td>\n",
       "      <td>3.000000</td>\n",
       "      <td>3.000000</td>\n",
       "      <td>3.000000</td>\n",
       "    </tr>\n",
       "    <tr>\n",
       "      <th>50%</th>\n",
       "      <td>4999.50000</td>\n",
       "      <td>5000.50000</td>\n",
       "      <td>50207.000000</td>\n",
       "      <td>39.419355</td>\n",
       "      <td>-88.397230</td>\n",
       "      <td>2769.000000</td>\n",
       "      <td>1.000000</td>\n",
       "      <td>53.000000</td>\n",
       "      <td>33942.280000</td>\n",
       "      <td>18.080560</td>\n",
       "      <td>5.000000</td>\n",
       "      <td>1.000000</td>\n",
       "      <td>0.000000</td>\n",
       "      <td>1.000000</td>\n",
       "      <td>0.000000</td>\n",
       "      <td>34.446941</td>\n",
       "      <td>5852.250564</td>\n",
       "      <td>11573.979365</td>\n",
       "      <td>4.000000</td>\n",
       "      <td>3.000000</td>\n",
       "      <td>4.000000</td>\n",
       "      <td>4.000000</td>\n",
       "      <td>3.000000</td>\n",
       "      <td>4.000000</td>\n",
       "      <td>3.000000</td>\n",
       "      <td>3.000000</td>\n",
       "    </tr>\n",
       "    <tr>\n",
       "      <th>75%</th>\n",
       "      <td>7499.25000</td>\n",
       "      <td>7500.25000</td>\n",
       "      <td>72411.750000</td>\n",
       "      <td>42.044175</td>\n",
       "      <td>-80.438050</td>\n",
       "      <td>13945.000000</td>\n",
       "      <td>3.000000</td>\n",
       "      <td>71.000000</td>\n",
       "      <td>54075.235000</td>\n",
       "      <td>19.789740</td>\n",
       "      <td>6.000000</td>\n",
       "      <td>2.000000</td>\n",
       "      <td>1.000000</td>\n",
       "      <td>1.000000</td>\n",
       "      <td>1.000000</td>\n",
       "      <td>61.124654</td>\n",
       "      <td>7614.989701</td>\n",
       "      <td>15626.491033</td>\n",
       "      <td>4.000000</td>\n",
       "      <td>4.000000</td>\n",
       "      <td>4.000000</td>\n",
       "      <td>4.000000</td>\n",
       "      <td>4.000000</td>\n",
       "      <td>4.000000</td>\n",
       "      <td>4.000000</td>\n",
       "      <td>4.000000</td>\n",
       "    </tr>\n",
       "    <tr>\n",
       "      <th>max</th>\n",
       "      <td>9999.00000</td>\n",
       "      <td>10000.00000</td>\n",
       "      <td>99929.000000</td>\n",
       "      <td>70.560990</td>\n",
       "      <td>-65.290170</td>\n",
       "      <td>122814.000000</td>\n",
       "      <td>10.000000</td>\n",
       "      <td>89.000000</td>\n",
       "      <td>207249.130000</td>\n",
       "      <td>53.019124</td>\n",
       "      <td>9.000000</td>\n",
       "      <td>7.000000</td>\n",
       "      <td>5.000000</td>\n",
       "      <td>1.000000</td>\n",
       "      <td>1.000000</td>\n",
       "      <td>71.981486</td>\n",
       "      <td>21524.224210</td>\n",
       "      <td>30566.073130</td>\n",
       "      <td>8.000000</td>\n",
       "      <td>7.000000</td>\n",
       "      <td>8.000000</td>\n",
       "      <td>7.000000</td>\n",
       "      <td>7.000000</td>\n",
       "      <td>7.000000</td>\n",
       "      <td>7.000000</td>\n",
       "      <td>7.000000</td>\n",
       "    </tr>\n",
       "  </tbody>\n",
       "</table>\n",
       "</div>"
      ],
      "text/plain": [
       "             index    CaseOrder           Zip           Lat           Lng  \\\n",
       "count  10000.00000  10000.00000  10000.000000  10000.000000  10000.000000   \n",
       "mean    4999.50000   5000.50000  50159.323900     38.751099    -91.243080   \n",
       "std     2886.89568   2886.89568  27469.588208      5.403085     15.205998   \n",
       "min        0.00000      1.00000    610.000000     17.967190   -174.209690   \n",
       "25%     2499.75000   2500.75000  27592.000000     35.255120    -97.352982   \n",
       "50%     4999.50000   5000.50000  50207.000000     39.419355    -88.397230   \n",
       "75%     7499.25000   7500.25000  72411.750000     42.044175    -80.438050   \n",
       "max     9999.00000  10000.00000  99929.000000     70.560990    -65.290170   \n",
       "\n",
       "          Population     Children          Age         Income   VitD_levels  \\\n",
       "count   10000.000000  7412.000000  7586.000000    7536.000000  10000.000000   \n",
       "mean     9965.253800     2.098219    53.295676   40484.438268     19.412675   \n",
       "std     14824.758614     2.155427    20.659182   28664.861050      6.723277   \n",
       "min         0.000000     0.000000    18.000000     154.080000      9.519012   \n",
       "25%       694.750000     0.000000    35.000000   19450.792500     16.513171   \n",
       "50%      2769.000000     1.000000    53.000000   33942.280000     18.080560   \n",
       "75%     13945.000000     3.000000    71.000000   54075.235000     19.789740   \n",
       "max    122814.000000    10.000000    89.000000  207249.130000     53.019124   \n",
       "\n",
       "         Doc_visits  Full_meals_eaten     VitD_supp   Overweight      Anxiety  \\\n",
       "count  10000.000000      10000.000000  10000.000000  9018.000000  9016.000000   \n",
       "mean       5.012200          1.001400      0.398900     0.709137     0.322316   \n",
       "std        1.045734          1.008117      0.628505     0.454186     0.467389   \n",
       "min        1.000000          0.000000      0.000000     0.000000     0.000000   \n",
       "25%        4.000000          0.000000      0.000000     0.000000     0.000000   \n",
       "50%        5.000000          1.000000      0.000000     1.000000     0.000000   \n",
       "75%        6.000000          2.000000      1.000000     1.000000     1.000000   \n",
       "max        9.000000          7.000000      5.000000     1.000000     1.000000   \n",
       "\n",
       "       Initial_days   TotalCharge  Additional_charges         Item1  \\\n",
       "count   8944.000000  10000.000000        10000.000000  10000.000000   \n",
       "mean      34.432082   5891.538261        12934.528586      3.518800   \n",
       "std       26.287050   3377.558136         6542.601544      1.031966   \n",
       "min        1.001981   1256.751699         3125.702716      1.000000   \n",
       "25%        7.911709   3253.239465         7986.487642      3.000000   \n",
       "50%       34.446941   5852.250564        11573.979365      4.000000   \n",
       "75%       61.124654   7614.989701        15626.491033      4.000000   \n",
       "max       71.981486  21524.224210        30566.073130      8.000000   \n",
       "\n",
       "              Item2         Item3         Item4         Item5         Item6  \\\n",
       "count  10000.000000  10000.000000  10000.000000  10000.000000  10000.000000   \n",
       "mean       3.506700      3.511100      3.515100      3.496900      3.522500   \n",
       "std        1.034825      1.032755      1.036282      1.030192      1.032376   \n",
       "min        1.000000      1.000000      1.000000      1.000000      1.000000   \n",
       "25%        3.000000      3.000000      3.000000      3.000000      3.000000   \n",
       "50%        3.000000      4.000000      4.000000      3.000000      4.000000   \n",
       "75%        4.000000      4.000000      4.000000      4.000000      4.000000   \n",
       "max        7.000000      8.000000      7.000000      7.000000      7.000000   \n",
       "\n",
       "              Item7         Item8  \n",
       "count  10000.000000  10000.000000  \n",
       "mean       3.494000      3.509700  \n",
       "std        1.021405      1.042312  \n",
       "min        1.000000      1.000000  \n",
       "25%        3.000000      3.000000  \n",
       "50%        3.000000      3.000000  \n",
       "75%        4.000000      4.000000  \n",
       "max        7.000000      7.000000  "
      ]
     },
     "execution_count": 4025,
     "metadata": {},
     "output_type": "execute_result"
    }
   ],
   "source": [
    "#find the stats of my dataframe \n",
    "df.describe()"
   ]
  },
  {
   "cell_type": "code",
   "execution_count": 4027,
   "id": "98eaaf24-fd57-434b-85b6-ad81297b8fe3",
   "metadata": {
    "editable": true,
    "slideshow": {
     "slide_type": ""
    },
    "tags": []
   },
   "outputs": [
    {
     "data": {
      "text/plain": [
       "(array([1880., 1858., 1094., 1113.,  739.,  126.,  145.,  154.,  157.,\n",
       "         146.]),\n",
       " array([ 0.,  1.,  2.,  3.,  4.,  5.,  6.,  7.,  8.,  9., 10.]),\n",
       " <BarContainer object of 10 artists>)"
      ]
     },
     "execution_count": 4027,
     "metadata": {},
     "output_type": "execute_result"
    },
    {
     "data": {
      "image/png": "[encoded data removed]",
      "text/plain": [
       "<Figure size 640x480 with 1 Axes>"
      ]
     },
     "metadata": {},
     "output_type": "display_data"
    }
   ],
   "source": [
    "#using histogram to detect distribution of the variables with missing values\n",
    "#The childrens column in skewed to the left so we will use the median \n",
    "plt.hist(df['Children'])"
   ]
  },
  {
   "cell_type": "code",
   "execution_count": 4029,
   "id": "b92f8e0a-55b1-44e9-a783-53be733df8dd",
   "metadata": {
    "editable": true,
    "slideshow": {
     "slide_type": ""
    },
    "tags": []
   },
   "outputs": [
    {
     "data": {
      "text/plain": [
       "(array([823., 761., 746., 753., 746., 739., 730., 765., 710., 813.]),\n",
       " array([18. , 25.1, 32.2, 39.3, 46.4, 53.5, 60.6, 67.7, 74.8, 81.9, 89. ]),\n",
       " <BarContainer object of 10 artists>)"
      ]
     },
     "execution_count": 4029,
     "metadata": {},
     "output_type": "execute_result"
    },
    {
     "data": {
      "image/png": "[encoded data removed]",
      "text/plain": [
       "<Figure size 640x480 with 1 Axes>"
      ]
     },
     "metadata": {},
     "output_type": "display_data"
    }
   ],
   "source": [
    "#detecting histogram to detect distrubution\n",
    "#this chart is a uniform distrubution so we can use mean\n",
    "plt.hist(df['Age'])"
   ]
  },
  {
   "cell_type": "code",
   "execution_count": 4031,
   "id": "c6cdcba2-43f8-496b-8c4a-49e3f851444c",
   "metadata": {
    "editable": true,
    "slideshow": {
     "slide_type": ""
    },
    "tags": []
   },
   "outputs": [
    {
     "data": {
      "text/plain": [
       "(array([2068., 2526., 1532.,  790.,  340.,  156.,   67.,   34.,   12.,\n",
       "          11.]),\n",
       " array([1.54080000e+02, 2.08635850e+04, 4.15730900e+04, 6.22825950e+04,\n",
       "        8.29921000e+04, 1.03701605e+05, 1.24411110e+05, 1.45120615e+05,\n",
       "        1.65830120e+05, 1.86539625e+05, 2.07249130e+05]),\n",
       " <BarContainer object of 10 artists>)"
      ]
     },
     "execution_count": 4031,
     "metadata": {},
     "output_type": "execute_result"
    },
    {
     "data": {
      "image/png": "[encoded data removed]",
      "text/plain": [
       "<Figure size 640x480 with 1 Axes>"
      ]
     },
     "metadata": {},
     "output_type": "display_data"
    }
   ],
   "source": [
    "#detecting histogram to detect distrubution\n",
    "#this chart is skewed to the left  so we can use median\n",
    "plt.hist(df['Income'])"
   ]
  },
  {
   "cell_type": "code",
   "execution_count": 4033,
   "id": "626a9f11-3396-4a0a-bcfe-45716aa73ca3",
   "metadata": {
    "editable": true,
    "slideshow": {
     "slide_type": ""
    },
    "tags": []
   },
   "outputs": [
    {
     "data": {
      "text/plain": [
       "(array([2623.,    0.,    0.,    0.,    0.,    0.,    0.,    0.,    0.,\n",
       "        6395.]),\n",
       " array([0. , 0.1, 0.2, 0.3, 0.4, 0.5, 0.6, 0.7, 0.8, 0.9, 1. ]),\n",
       " <BarContainer object of 10 artists>)"
      ]
     },
     "execution_count": 4033,
     "metadata": {},
     "output_type": "execute_result"
    },
    {
     "data": {
      "image/png": "[encoded data removed]",
      "text/plain": [
       "<Figure size 640x480 with 1 Axes>"
      ]
     },
     "metadata": {},
     "output_type": "display_data"
    }
   ],
   "source": [
    "#using histogram to detect distribution\n",
    "#Overweight is a categorial variable so we will use mode to treat\n",
    "plt.hist(df['Overweight'])"
   ]
  },
  {
   "cell_type": "code",
   "execution_count": 4035,
   "id": "d85ade03-0002-418c-a20d-fba3e99967c3",
   "metadata": {
    "editable": true,
    "slideshow": {
     "slide_type": ""
    },
    "tags": []
   },
   "outputs": [
    {
     "data": {
      "text/plain": [
       "(array([6110.,    0.,    0.,    0.,    0.,    0.,    0.,    0.,    0.,\n",
       "        2906.]),\n",
       " array([0. , 0.1, 0.2, 0.3, 0.4, 0.5, 0.6, 0.7, 0.8, 0.9, 1. ]),\n",
       " <BarContainer object of 10 artists>)"
      ]
     },
     "execution_count": 4035,
     "metadata": {},
     "output_type": "execute_result"
    },
    {
     "data": {
      "image/png": "[encoded data removed]",
      "text/plain": [
       "<Figure size 640x480 with 1 Axes>"
      ]
     },
     "metadata": {},
     "output_type": "display_data"
    }
   ],
   "source": [
    "#using histogram to detect distribution\n",
    "#Anxiety is a categorial variable so we will use mode to treat\n",
    "plt.hist(df['Anxiety'])"
   ]
  },
  {
   "cell_type": "code",
   "execution_count": 4039,
   "id": "0e100d1a-1f5c-4c9c-923a-c79f0dc6efbe",
   "metadata": {
    "editable": true,
    "slideshow": {
     "slide_type": ""
    },
    "tags": []
   },
   "outputs": [
    {
     "data": {
      "text/plain": [
       "(array([2467.,    0.,    0.,    0.,    0., 5589.,    0.,    0.,    0.,\n",
       "        1944.]),\n",
       " array([0. , 0.2, 0.4, 0.6, 0.8, 1. , 1.2, 1.4, 1.6, 1.8, 2. ]),\n",
       " <BarContainer object of 10 artists>)"
      ]
     },
     "execution_count": 4039,
     "metadata": {},
     "output_type": "execute_result"
    },
    {
     "data": {
      "image/png": "[encoded data removed]",
      "text/plain": [
       "<Figure size 640x480 with 1 Axes>"
      ]
     },
     "metadata": {},
     "output_type": "display_data"
    }
   ],
   "source": [
    "#using histogram to detect distribution -because it's orignally a an object that we cant plot histograms on. First, the data type will be converted to a string then a histogram will be plotted.\n",
    "#Soft_drink is a categorial variable so we will use mode to treat\n",
    "df['Soft_drink'] = df['Soft_drink'].astype(str)\n",
    "plt.hist(df['Soft_drink'])"
   ]
  },
  {
   "cell_type": "code",
   "execution_count": 4041,
   "id": "339de164-4bb2-4ac1-ae39-2341e8fd2595",
   "metadata": {
    "editable": true,
    "slideshow": {
     "slide_type": ""
    },
    "tags": []
   },
   "outputs": [
    {
     "data": {
      "text/plain": [
       "(array([2288., 1429.,  599.,  134.,   32.,  235.,  502.,  916., 1314.,\n",
       "        1495.]),\n",
       " array([ 1.00198092,  8.09993146, 15.197882  , 22.29583253, 29.39378307,\n",
       "        36.49173361, 43.58968415, 50.68763469, 57.78558522, 64.88353576,\n",
       "        71.9814863 ]),\n",
       " <BarContainer object of 10 artists>)"
      ]
     },
     "execution_count": 4041,
     "metadata": {},
     "output_type": "execute_result"
    },
    {
     "data": {
      "image/png": "[encoded data removed]",
      "text/plain": [
       "<Figure size 640x480 with 1 Axes>"
      ]
     },
     "metadata": {},
     "output_type": "display_data"
    }
   ],
   "source": [
    "#using histogram to detect distribution\n",
    "#Initial days is an asymmetrical bi-modal distribution so we will use median to avoid bias from extremes \n",
    "plt.hist(df['Initial_days'])"
   ]
  },
  {
   "cell_type": "code",
   "execution_count": 4043,
   "id": "e1b9c668-cd24-4646-ab85-07ff054e07a2",
   "metadata": {
    "editable": true,
    "slideshow": {
     "slide_type": ""
    },
    "tags": []
   },
   "outputs": [],
   "source": [
    "#treatment of missing values for Children\n",
    "median_children = df['Children'].median()\n",
    "df['Children'].fillna(median_children, inplace=True)"
   ]
  },
  {
   "cell_type": "code",
   "execution_count": 4045,
   "id": "97d59c86-6d02-45f3-a958-f41f4103c27e",
   "metadata": {
    "editable": true,
    "slideshow": {
     "slide_type": ""
    },
    "tags": []
   },
   "outputs": [],
   "source": [
    "#treatment of missing values for Age\n",
    "mean_age = df['Age'].mean()\n",
    "df['Age'].fillna(mean_age, inplace=True)"
   ]
  },
  {
   "cell_type": "code",
   "execution_count": 4047,
   "id": "7604e573-84af-4590-bb37-8e0073199064",
   "metadata": {
    "editable": true,
    "slideshow": {
     "slide_type": ""
    },
    "tags": []
   },
   "outputs": [],
   "source": [
    "#treatment of missing values for Income\n",
    "median_income = df['Income'].median()\n",
    "df['Income'].fillna(median_income, inplace=True)"
   ]
  },
  {
   "cell_type": "code",
   "execution_count": 4049,
   "id": "bce4ab44-5d0d-4187-be94-c09c2098d195",
   "metadata": {
    "editable": true,
    "slideshow": {
     "slide_type": ""
    },
    "tags": []
   },
   "outputs": [],
   "source": [
    "#treatment for missing values for Overweight to mode. \n",
    "mode_overweight = df['Overweight'].mode()[0] \n",
    "\n",
    "df['Overweight'].fillna(mode_overweight, inplace=True)"
   ]
  },
  {
   "cell_type": "code",
   "execution_count": 4051,
   "id": "71ee7f66-ac26-449d-8895-7aeb2b4feb07",
   "metadata": {
    "editable": true,
    "slideshow": {
     "slide_type": ""
    },
    "tags": []
   },
   "outputs": [],
   "source": [
    "#treatment for missing values for Anxiety \n",
    "mode_anxiety = df['Anxiety'].mode()[0]\n",
    "df['Anxiety'].fillna(mode_anxiety, inplace=True)"
   ]
  },
  {
   "cell_type": "code",
   "execution_count": 4053,
   "id": "547009d9-b27c-4845-8aa5-34479db565e7",
   "metadata": {
    "editable": true,
    "slideshow": {
     "slide_type": ""
    },
    "tags": []
   },
   "outputs": [
    {
     "name": "stdout",
     "output_type": "stream",
     "text": [
      "Data type of 'Soft_drink': object\n"
     ]
    }
   ],
   "source": [
    "# Check the data type of 'Soft_drink'\n",
    "print(\"Data type of 'Soft_drink':\", df['Soft_drink'].dtype)"
   ]
  },
  {
   "cell_type": "code",
   "execution_count": 4055,
   "id": "c4293ad5-a1b0-4488-91bd-6a8f8a09ce80",
   "metadata": {
    "editable": true,
    "slideshow": {
     "slide_type": ""
    },
    "tags": []
   },
   "outputs": [],
   "source": [
    "# Replace string 'nan' with actual NaN\n",
    "df['Soft_drink'].replace('nan', np.nan, inplace=True)\n",
    "# Calculate the mode of 'Soft_drink' column\n",
    "mode_softdrink = df['Soft_drink'].mode()\n",
    "# Fill NaN values in the 'Soft_drink' column with the mode\n",
    "df['Soft_drink'].fillna(mode_value, inplace=True)"
   ]
  },
  {
   "cell_type": "code",
   "execution_count": 4057,
   "id": "8dd7636d-c90e-4f6e-a28d-227651f68693",
   "metadata": {
    "editable": true,
    "scrolled": true,
    "slideshow": {
     "slide_type": ""
    },
    "tags": []
   },
   "outputs": [
    {
     "data": {
      "text/plain": [
       "array(['No', 'Yes'], dtype=object)"
      ]
     },
     "execution_count": 4057,
     "metadata": {},
     "output_type": "execute_result"
    }
   ],
   "source": [
    "df.Soft_drink.unique()"
   ]
  },
  {
   "cell_type": "code",
   "execution_count": 4059,
   "id": "4f32ad12-d446-4a3d-9c13-d23892aea24c",
   "metadata": {
    "editable": true,
    "slideshow": {
     "slide_type": ""
    },
    "tags": []
   },
   "outputs": [],
   "source": [
    "# Calculate mode of 'Intial_days' column\n",
    "mode_intialdays = df['Initial_days'].median()\n",
    "\n",
    "# Fill NaN values with the mode\n",
    "df['Initial_days'].fillna(mode_intialdays, inplace=True)"
   ]
  },
  {
   "cell_type": "code",
   "execution_count": 4063,
   "id": "372e5235-28a1-4f65-ae8a-7303ee5a1ca5",
   "metadata": {
    "editable": true,
    "slideshow": {
     "slide_type": ""
    },
    "tags": []
   },
   "outputs": [
    {
     "data": {
      "text/plain": [
       "index          0\n",
       "CaseOrder      0\n",
       "Customer_id    0\n",
       "Interaction    0\n",
       "UID            0\n",
       "              ..\n",
       "Item4          0\n",
       "Item5          0\n",
       "Item6          0\n",
       "Item7          0\n",
       "Item8          0\n",
       "Length: 53, dtype: int64"
      ]
     },
     "execution_count": 4063,
     "metadata": {},
     "output_type": "execute_result"
    }
   ],
   "source": [
    "#rechecking the variables to detect anymore null values \n",
    "pd.isnull(df).sum()"
   ]
  },
  {
   "cell_type": "code",
   "execution_count": 4065,
   "id": "87a4d443-a70d-45ec-8a66-eec911bf0431",
   "metadata": {
    "editable": true,
    "slideshow": {
     "slide_type": ""
    },
    "tags": []
   },
   "outputs": [
    {
     "data": {
      "text/plain": [
       "<Axes: >"
      ]
     },
     "execution_count": 4065,
     "metadata": {},
     "output_type": "execute_result"
    },
    {
     "data": {
      "image/png": "[encoded data removed]",
      "text/plain": [
       "<Figure size 640x480 with 1 Axes>"
      ]
     },
     "metadata": {},
     "output_type": "display_data"
    }
   ],
   "source": [
    "#below is the boxplot for quantitative variables to detect outliers\n",
    "#starting with the population variable \n",
    "sns.boxplot(df['Population'])"
   ]
  },
  {
   "cell_type": "code",
   "execution_count": 4067,
   "id": "bb03b99c-0f81-4fba-828d-30e7728f7133",
   "metadata": {
    "editable": true,
    "slideshow": {
     "slide_type": ""
    },
    "tags": []
   },
   "outputs": [
    {
     "name": "stdout",
     "output_type": "stream",
     "text": [
      "upper_limit: 54439.52964287172\n",
      "lower_limit: -34509.02204287172\n"
     ]
    }
   ],
   "source": [
    "# detect outliers on Population # In-Text Citation: (Polanitzer)\n",
    "upper_limit = df['Population'].mean() + 3*df['Population'].std()\n",
    "lower_limit = df['Population'].mean() - 3*df['Population'].std()\n",
    "print('upper_limit:', upper_limit)\n",
    "print('lower_limit:', lower_limit)"
   ]
  },
  {
   "cell_type": "code",
   "execution_count": 4069,
   "id": "848f11e4-01db-460a-9bf2-1cb3f2eed288",
   "metadata": {
    "editable": true,
    "slideshow": {
     "slide_type": ""
    },
    "tags": []
   },
   "outputs": [
    {
     "name": "stdout",
     "output_type": "stream",
     "text": [
      "Number of outliers: 218\n"
     ]
    }
   ],
   "source": [
    "# Create a boolean mask for outliers\n",
    "population_outliers_mask = (df['Population'] < lower_limit) | (df['Population'] > upper_limit)\n",
    "\n",
    "# Count number of outliers using the mask\n",
    "population_outliers = population_outliers_mask.sum()  # sum() counts True values in the mask\n",
    "\n",
    "print(\"Number of outliers:\", population_outliers)"
   ]
  },
  {
   "cell_type": "code",
   "execution_count": 4071,
   "id": "7e207117-c8a4-4c5b-9d8e-3f1a0e80f4bf",
   "metadata": {
    "editable": true,
    "slideshow": {
     "slide_type": ""
    },
    "tags": []
   },
   "outputs": [
    {
     "name": "stdout",
     "output_type": "stream",
     "text": [
      "Outlier values in the 'Population' column:\n",
      "153      56458\n",
      "160      62718\n",
      "163      60238\n",
      "230      59191\n",
      "243      65151\n",
      "288      54453\n",
      "336      54776\n",
      "365      55361\n",
      "393      69802\n",
      "422      60191\n",
      "469      68796\n",
      "531      70199\n",
      "591      59129\n",
      "594      57955\n",
      "611      90761\n",
      "621      71587\n",
      "657      63177\n",
      "659      64197\n",
      "690      64126\n",
      "767     105799\n",
      "793      69802\n",
      "827      67040\n",
      "882      71308\n",
      "896      56446\n",
      "920      60107\n",
      "933      69685\n",
      "964      54460\n",
      "973      55130\n",
      "981      55200\n",
      "1002     67597\n",
      "1017     66295\n",
      "1049     58304\n",
      "1056     64548\n",
      "1066     62226\n",
      "1087     56716\n",
      "1093     55937\n",
      "1124     67597\n",
      "1158     55269\n",
      "1182     58541\n",
      "1229     57775\n",
      "1231     68773\n",
      "1318     56790\n",
      "1436     63380\n",
      "1470     76882\n",
      "1609     68807\n",
      "1688     59633\n",
      "1879     63078\n",
      "1882     59637\n",
      "1890     67730\n",
      "1897     68646\n",
      "1913     58893\n",
      "2064     68201\n",
      "2245     92108\n",
      "2484     55857\n",
      "2497     71581\n",
      "2511     59637\n",
      "2540     57925\n",
      "2541     60138\n",
      "2558     72799\n",
      "2728     80143\n",
      "2742     75666\n",
      "2863     58252\n",
      "2888     82572\n",
      "2905     76495\n",
      "2931     79010\n",
      "3024    122814\n",
      "3025     54975\n",
      "3042     58541\n",
      "3125     94512\n",
      "3149     63153\n",
      "3163     55316\n",
      "3185     54647\n",
      "3384     60254\n",
      "3433     62718\n",
      "3452     62348\n",
      "3523     54882\n",
      "3545     56000\n",
      "3777     65247\n",
      "3819     54647\n",
      "3855     88349\n",
      "4068     68263\n",
      "4074     54823\n",
      "4177     55548\n",
      "4180     56790\n",
      "4200     59256\n",
      "4273     64034\n",
      "4324     79298\n",
      "4359     96081\n",
      "4382     57344\n",
      "4456     54701\n",
      "4502     83960\n",
      "4529     83179\n",
      "4538     56645\n",
      "4581     84418\n",
      "4649     56870\n",
      "4650     58327\n",
      "4738     57181\n",
      "4743     56420\n",
      "4795     65885\n",
      "4912     57035\n",
      "5064     61660\n",
      "5250     66295\n",
      "5338     55107\n",
      "5348     61660\n",
      "5415     58882\n",
      "5448     77334\n",
      "5454     63852\n",
      "5455     90340\n",
      "5641     58431\n",
      "5770     95666\n",
      "5783     85166\n",
      "5787     82534\n",
      "5828     61904\n",
      "5843     60081\n",
      "5878     54862\n",
      "5965    107700\n",
      "5985     56765\n",
      "6033     61301\n",
      "6047     57775\n",
      "6090     58431\n",
      "6140     65603\n",
      "6141     61550\n",
      "6302     79699\n",
      "6342     55663\n",
      "6433     63425\n",
      "6434     67053\n",
      "6449     90036\n",
      "6469     88349\n",
      "6479     60033\n",
      "6499     68773\n",
      "6502    102624\n",
      "6531     78767\n",
      "6538     65123\n",
      "6686     96487\n",
      "6776     72332\n",
      "6792     56173\n",
      "6796     54507\n",
      "6813     96530\n",
      "6835     83960\n",
      "6846     87027\n",
      "6931     82920\n",
      "6956     61803\n",
      "6974     65256\n",
      "6994     56511\n",
      "7018     78475\n",
      "7041     65300\n",
      "7057     68102\n",
      "7088     56173\n",
      "7114     87509\n",
      "7122     61904\n",
      "7129     90761\n",
      "7138     56651\n",
      "7215     57226\n",
      "7290     57775\n",
      "7335     65347\n",
      "7361     67339\n",
      "7379     58178\n",
      "7402     56931\n",
      "7598     57642\n",
      "7607     78900\n",
      "7686    105799\n",
      "7693     69413\n",
      "7719     59129\n",
      "7790     55519\n",
      "7902     96530\n",
      "7909     57369\n",
      "7923     57000\n",
      "8021     58160\n",
      "8062     55061\n",
      "8075     65335\n",
      "8151     64723\n",
      "8156     65791\n",
      "8159     66245\n",
      "8171     62392\n",
      "8187     54882\n",
      "8264     56811\n",
      "8314     57659\n",
      "8387     62392\n",
      "8417     61550\n",
      "8455     65742\n",
      "8537     71023\n",
      "8565     56614\n",
      "8576     92146\n",
      "8593     67094\n",
      "8599     80213\n",
      "8622     56155\n",
      "8701     87986\n",
      "8741     66590\n",
      "8751     67597\n",
      "8793     64264\n",
      "8826     67959\n",
      "8872     55663\n",
      "8904     59001\n",
      "8947     56838\n",
      "8997     62430\n",
      "9066     64417\n",
      "9071     84418\n",
      "9118     98219\n",
      "9121     80264\n",
      "9130     69546\n",
      "9132     75899\n",
      "9147     58167\n",
      "9148     55937\n",
      "9212     66134\n",
      "9322     70052\n",
      "9337     76177\n",
      "9400     56496\n",
      "9458     83960\n",
      "9488     80524\n",
      "9600     59502\n",
      "9662    122814\n",
      "9706     65151\n",
      "9720     57344\n",
      "9731     68803\n",
      "9788     61324\n",
      "9799     55222\n",
      "9813     59699\n",
      "9851     56964\n",
      "Name: Population, dtype: int64\n"
     ]
    }
   ],
   "source": [
    "# Print all values from the 'Children' column of outliers\n",
    "population_outliers_values = df.loc[population_outliers_mask, 'Population']\n",
    "pd.set_option('display.max_rows', None)\n",
    "print(\"Outlier values in the 'Population' column:\")\n",
    "print(population_outliers_values)"
   ]
  },
  {
   "cell_type": "code",
   "execution_count": 4073,
   "id": "4a58f9d1-d3a9-4133-9ad6-b2b1c1369562",
   "metadata": {
    "editable": true,
    "slideshow": {
     "slide_type": ""
    },
    "tags": []
   },
   "outputs": [
    {
     "data": {
      "text/plain": [
       "<Axes: >"
      ]
     },
     "execution_count": 4073,
     "metadata": {},
     "output_type": "execute_result"
    },
    {
     "data": {
      "image/png": "[encoded data removed]",
      "text/plain": [
       "<Figure size 640x480 with 1 Axes>"
      ]
     },
     "metadata": {},
     "output_type": "display_data"
    }
   ],
   "source": [
    "#below is the boxplot for Children  to detect outliers\n",
    "sns.boxplot(df['Children'])"
   ]
  },
  {
   "cell_type": "code",
   "execution_count": 4075,
   "id": "8dfd0303-ee0b-4e7c-a01d-99a8195e34d8",
   "metadata": {
    "editable": true,
    "slideshow": {
     "slide_type": ""
    },
    "tags": []
   },
   "outputs": [
    {
     "name": "stdout",
     "output_type": "stream",
     "text": [
      "upper_limit: 7.564908040851226\n",
      "lower_limit: -3.9369080408512263\n"
     ]
    }
   ],
   "source": [
    "# detect outliers on Children\n",
    "upper_limit = df['Children'].mean() + 3*df['Children'].std()\n",
    "lower_limit = df['Children'].mean() - 3*df['Children'].std()\n",
    "print('upper_limit:', upper_limit)\n",
    "print('lower_limit:', lower_limit)"
   ]
  },
  {
   "cell_type": "code",
   "execution_count": 4077,
   "id": "3f9d3560-00bd-4df6-832f-027e360009c9",
   "metadata": {
    "editable": true,
    "slideshow": {
     "slide_type": ""
    },
    "tags": []
   },
   "outputs": [
    {
     "name": "stdout",
     "output_type": "stream",
     "text": [
      "Number of outliers: 303\n"
     ]
    }
   ],
   "source": [
    "# Create a boolean mask for outliers # In-Text Citation: (Polanitzer)\n",
    "children_outliers_mask = (df['Children'] < lower_limit) | (df['Children'] > upper_limit)\n",
    "\n",
    "# Count number of outliers using the mask\n",
    "children_outliers = children_outliers_mask.sum()  # sum() counts True values in the mask\n",
    "\n",
    "print(\"Number of outliers:\", children_outliers)"
   ]
  },
  {
   "cell_type": "code",
   "execution_count": 4079,
   "id": "54c050b9-1363-4454-8fbf-7135994d6bb5",
   "metadata": {
    "editable": true,
    "slideshow": {
     "slide_type": ""
    },
    "tags": []
   },
   "outputs": [
    {
     "name": "stdout",
     "output_type": "stream",
     "text": [
      "Outlier values in the 'Children' column:\n",
      "16      10.0\n",
      "79       9.0\n",
      "155      8.0\n",
      "156     10.0\n",
      "170      8.0\n",
      "180     10.0\n",
      "185     10.0\n",
      "188      8.0\n",
      "206      8.0\n",
      "219     10.0\n",
      "262      8.0\n",
      "277      8.0\n",
      "288      9.0\n",
      "324      9.0\n",
      "361      9.0\n",
      "373      8.0\n",
      "375      9.0\n",
      "427      8.0\n",
      "430      8.0\n",
      "446     10.0\n",
      "449      9.0\n",
      "487      9.0\n",
      "512      8.0\n",
      "566      8.0\n",
      "597     10.0\n",
      "608      9.0\n",
      "746      8.0\n",
      "783      9.0\n",
      "801     10.0\n",
      "821      8.0\n",
      "834      9.0\n",
      "845      8.0\n",
      "914      9.0\n",
      "958      8.0\n",
      "967      9.0\n",
      "979      8.0\n",
      "1001     8.0\n",
      "1037     8.0\n",
      "1047     8.0\n",
      "1048     9.0\n",
      "1075     8.0\n",
      "1093    10.0\n",
      "1138     8.0\n",
      "1148     8.0\n",
      "1168     8.0\n",
      "1187     9.0\n",
      "1328    10.0\n",
      "1393    10.0\n",
      "1435     8.0\n",
      "1506     8.0\n",
      "1535     8.0\n",
      "1567     8.0\n",
      "1585    10.0\n",
      "1623    10.0\n",
      "1633     8.0\n",
      "1636     9.0\n",
      "1721    10.0\n",
      "1726     9.0\n",
      "1752     8.0\n",
      "1775    10.0\n",
      "1821     8.0\n",
      "1903     9.0\n",
      "2054    10.0\n",
      "2068     8.0\n",
      "2106     8.0\n",
      "2121    10.0\n",
      "2124    10.0\n",
      "2141     8.0\n",
      "2149     8.0\n",
      "2195    10.0\n",
      "2281    10.0\n",
      "2350     9.0\n",
      "2376     8.0\n",
      "2437     9.0\n",
      "2487     8.0\n",
      "2524     8.0\n",
      "2587     9.0\n",
      "2620    10.0\n",
      "2623    10.0\n",
      "2652     8.0\n",
      "2665     8.0\n",
      "2687     8.0\n",
      "2699     8.0\n",
      "2706     9.0\n",
      "2750     8.0\n",
      "2792     9.0\n",
      "2793     8.0\n",
      "2849     8.0\n",
      "2879    10.0\n",
      "2887     8.0\n",
      "2904     9.0\n",
      "2997     8.0\n",
      "3032     9.0\n",
      "3034     8.0\n",
      "3053     9.0\n",
      "3133     8.0\n",
      "3168    10.0\n",
      "3191     9.0\n",
      "3199     9.0\n",
      "3261     8.0\n",
      "3319     8.0\n",
      "3334     8.0\n",
      "3423     8.0\n",
      "3424     9.0\n",
      "3458     8.0\n",
      "3512     8.0\n",
      "3516     8.0\n",
      "3527     8.0\n",
      "3575     8.0\n",
      "3591     9.0\n",
      "3693     9.0\n",
      "3737     9.0\n",
      "3749     8.0\n",
      "3835     8.0\n",
      "3840    10.0\n",
      "3867     9.0\n",
      "3879    10.0\n",
      "3911     9.0\n",
      "3920     9.0\n",
      "3932     8.0\n",
      "3946     8.0\n",
      "4047     9.0\n",
      "4109     9.0\n",
      "4133     9.0\n",
      "4246     8.0\n",
      "4248     8.0\n",
      "4279     8.0\n",
      "4346     8.0\n",
      "4368     9.0\n",
      "4388     9.0\n",
      "4401     8.0\n",
      "4424     9.0\n",
      "4458     9.0\n",
      "4460     8.0\n",
      "4501     9.0\n",
      "4522     8.0\n",
      "4525     8.0\n",
      "4566     8.0\n",
      "4612     8.0\n",
      "4682     8.0\n",
      "4772     8.0\n",
      "4778    10.0\n",
      "4799     8.0\n",
      "4806     9.0\n",
      "4810     8.0\n",
      "4826     8.0\n",
      "4841     9.0\n",
      "4893     8.0\n",
      "4895     9.0\n",
      "4913     8.0\n",
      "5019    10.0\n",
      "5087     9.0\n",
      "5171     9.0\n",
      "5182     9.0\n",
      "5272    10.0\n",
      "5296    10.0\n",
      "5339     8.0\n",
      "5344     8.0\n",
      "5412    10.0\n",
      "5440    10.0\n",
      "5475     9.0\n",
      "5510     8.0\n",
      "5529     9.0\n",
      "5560    10.0\n",
      "5584     9.0\n",
      "5617     8.0\n",
      "5645     8.0\n",
      "5660     8.0\n",
      "5692     9.0\n",
      "5698     8.0\n",
      "5729     9.0\n",
      "5732     8.0\n",
      "5804    10.0\n",
      "5814    10.0\n",
      "5817    10.0\n",
      "5822     8.0\n",
      "5873     8.0\n",
      "6010     8.0\n",
      "6015    10.0\n",
      "6038     8.0\n",
      "6045     8.0\n",
      "6066     8.0\n",
      "6073     9.0\n",
      "6080     8.0\n",
      "6089     8.0\n",
      "6103     8.0\n",
      "6112     8.0\n",
      "6174     8.0\n",
      "6176     9.0\n",
      "6200    10.0\n",
      "6223     8.0\n",
      "6272     8.0\n",
      "6287     9.0\n",
      "6340     8.0\n",
      "6342     9.0\n",
      "6360     8.0\n",
      "6363    10.0\n",
      "6372     8.0\n",
      "6402     9.0\n",
      "6406     8.0\n",
      "6417     8.0\n",
      "6428     8.0\n",
      "6444     8.0\n",
      "6449     8.0\n",
      "6484    10.0\n",
      "6499     8.0\n",
      "6509     9.0\n",
      "6572     8.0\n",
      "6577     8.0\n",
      "6595    10.0\n",
      "6703    10.0\n",
      "6724     9.0\n",
      "6725     8.0\n",
      "6739     8.0\n",
      "6776     8.0\n",
      "6794     9.0\n",
      "6799     8.0\n",
      "6830    10.0\n",
      "6845    10.0\n",
      "6900    10.0\n",
      "6925     8.0\n",
      "6932     8.0\n",
      "7029     8.0\n",
      "7104     8.0\n",
      "7116    10.0\n",
      "7124    10.0\n",
      "7202     9.0\n",
      "7300    10.0\n",
      "7404     9.0\n",
      "7555     9.0\n",
      "7645     9.0\n",
      "7647    10.0\n",
      "7660     8.0\n",
      "7670     8.0\n",
      "7693    10.0\n",
      "7709     8.0\n",
      "7714     8.0\n",
      "7767     8.0\n",
      "7781    10.0\n",
      "7825     8.0\n",
      "7835    10.0\n",
      "7935     9.0\n",
      "7939     9.0\n",
      "7956     9.0\n",
      "7981    10.0\n",
      "8017     8.0\n",
      "8052    10.0\n",
      "8065     8.0\n",
      "8098     8.0\n",
      "8105    10.0\n",
      "8127     8.0\n",
      "8151     8.0\n",
      "8172     9.0\n",
      "8177     8.0\n",
      "8272     9.0\n",
      "8277    10.0\n",
      "8356     8.0\n",
      "8397    10.0\n",
      "8405     8.0\n",
      "8437     8.0\n",
      "8440     8.0\n",
      "8444     8.0\n",
      "8445     8.0\n",
      "8458     8.0\n",
      "8502     9.0\n",
      "8517     8.0\n",
      "8552     9.0\n",
      "8679    10.0\n",
      "8682     8.0\n",
      "8770     8.0\n",
      "8791     8.0\n",
      "8812    10.0\n",
      "8852     9.0\n",
      "8904     9.0\n",
      "8941    10.0\n",
      "8944     9.0\n",
      "8946    10.0\n",
      "8966     8.0\n",
      "9083     8.0\n",
      "9130     9.0\n",
      "9154     8.0\n",
      "9175     9.0\n",
      "9188     9.0\n",
      "9208     8.0\n",
      "9220     9.0\n",
      "9250     9.0\n",
      "9293     8.0\n",
      "9486     9.0\n",
      "9493     8.0\n",
      "9536     8.0\n",
      "9592     8.0\n",
      "9614     8.0\n",
      "9622     8.0\n",
      "9658    10.0\n",
      "9692     8.0\n",
      "9718     9.0\n",
      "9798     9.0\n",
      "9817     8.0\n",
      "9824     8.0\n",
      "9845    10.0\n",
      "9870     8.0\n",
      "9918     8.0\n",
      "9999     8.0\n",
      "Name: Children, dtype: float64\n"
     ]
    }
   ],
   "source": [
    "# Print all values from the 'Children' column of outliers\n",
    "children_outliers_values = df.loc[children_outliers_mask, 'Children']\n",
    "pd.set_option('display.max_rows', None)\n",
    "print(\"Outlier values in the 'Children' column:\")\n",
    "print(children_outliers_values)"
   ]
  },
  {
   "cell_type": "code",
   "execution_count": 4081,
   "id": "b7a5a54a-85a1-40d4-bdcb-eb2aee21cde6",
   "metadata": {
    "editable": true,
    "slideshow": {
     "slide_type": ""
    },
    "tags": []
   },
   "outputs": [
    {
     "data": {
      "text/plain": [
       "<Axes: >"
      ]
     },
     "execution_count": 4081,
     "metadata": {},
     "output_type": "execute_result"
    },
    {
     "data": {
      "image/png": "[encoded data removed]",
      "text/plain": [
       "<Figure size 640x480 with 1 Axes>"
      ]
     },
     "metadata": {},
     "output_type": "display_data"
    }
   ],
   "source": [
    "#Plotting a boxplot for the Age variable to detect outliers \n",
    "sns.boxplot(df['Age'])"
   ]
  },
  {
   "cell_type": "code",
   "execution_count": 4083,
   "id": "e4fb62d2-a7de-43c7-a734-a6e1bfa30e37",
   "metadata": {
    "editable": true,
    "slideshow": {
     "slide_type": ""
    },
    "tags": []
   },
   "outputs": [
    {
     "name": "stdout",
     "output_type": "stream",
     "text": [
      "upper_limit: 107.27580225300791\n",
      "lower_limit: -0.6844497615763458\n"
     ]
    }
   ],
   "source": [
    "# detect upper and lower limit on Age\n",
    "upper_limit = df['Age'].mean() + 3*df['Age'].std()\n",
    "lower_limit = df['Age'].mean() - 3*df['Age'].std()\n",
    "print('upper_limit:', upper_limit)\n",
    "print('lower_limit:', lower_limit)"
   ]
  },
  {
   "cell_type": "code",
   "execution_count": 4085,
   "id": "38fc8f1e-31fd-4e17-8149-8a94215c062b",
   "metadata": {
    "editable": true,
    "slideshow": {
     "slide_type": ""
    },
    "tags": []
   },
   "outputs": [
    {
     "name": "stdout",
     "output_type": "stream",
     "text": [
      "Number of outliers: 0\n"
     ]
    }
   ],
   "source": [
    "# Create a boolean mask for outliers # In-Text Citation: (Polanitzer)\n",
    "age_outliers_mask = (df['Age'] < lower_limit) | (df['Age'] > upper_limit)\n",
    "\n",
    "# Count number of outliers using the mask\n",
    "age_outliers = age_outliers_mask.sum()  # sum() counts True values in the mask\n",
    "\n",
    "print(\"Number of outliers:\", age_outliers)"
   ]
  },
  {
   "cell_type": "code",
   "execution_count": 4087,
   "id": "9086a1f2-0960-4fdd-953f-35b2c24e13a0",
   "metadata": {
    "editable": true,
    "slideshow": {
     "slide_type": ""
    },
    "tags": []
   },
   "outputs": [
    {
     "data": {
      "text/plain": [
       "<Axes: >"
      ]
     },
     "execution_count": 4087,
     "metadata": {},
     "output_type": "execute_result"
    },
    {
     "data": {
      "image/png": "[encoded data removed]",
      "text/plain": [
       "<Figure size 640x480 with 1 Axes>"
      ]
     },
     "metadata": {},
     "output_type": "display_data"
    }
   ],
   "source": [
    "#Plotting a boxplot for the Income variable to detect outliers \n",
    "sns.boxplot(df['Income'])"
   ]
  },
  {
   "cell_type": "code",
   "execution_count": 4089,
   "id": "e9b147b2-9fe8-4b95-836d-423f147bc11a",
   "metadata": {
    "editable": true,
    "slideshow": {
     "slide_type": ""
    },
    "tags": []
   },
   "outputs": [
    {
     "name": "stdout",
     "output_type": "stream",
     "text": [
      "upper_limit: 114000.83915851974\n",
      "lower_limit: -36255.93821651973\n"
     ]
    }
   ],
   "source": [
    "#z-score method to detect outliers on Income\n",
    "upper_limit = df['Income'].mean() + 3*df['Income'].std()\n",
    "lower_limit = df['Income'].mean() - 3*df['Income'].std()\n",
    "print('upper_limit:', upper_limit)\n",
    "print('lower_limit:', lower_limit)"
   ]
  },
  {
   "cell_type": "code",
   "execution_count": 4091,
   "id": "93026d07-d99c-475d-893b-4be75d960a68",
   "metadata": {
    "editable": true,
    "slideshow": {
     "slide_type": ""
    },
    "tags": []
   },
   "outputs": [
    {
     "name": "stdout",
     "output_type": "stream",
     "text": [
      "Number of outliers: 180\n"
     ]
    }
   ],
   "source": [
    "# Create a boolean mask for outliers # In-Text Citation: (Polanitzer)\n",
    "income_outliers_mask = (df['Income'] < lower_limit) | (df['Income'] > upper_limit)\n",
    "\n",
    "# Count number of outliers using the mask\n",
    "income_outliers = income_outliers_mask.sum()  # sum() counts True values in the mask\n",
    "\n",
    "print(\"Number of outliers:\", income_outliers)"
   ]
  },
  {
   "cell_type": "code",
   "execution_count": 4093,
   "id": "ca7316fa-bfdd-4eee-8f8b-934be23031cf",
   "metadata": {
    "editable": true,
    "slideshow": {
     "slide_type": ""
    },
    "tags": []
   },
   "outputs": [
    {
     "name": "stdout",
     "output_type": "stream",
     "text": [
      "Outlier values in the 'Income' column:\n",
      "30      167105.10\n",
      "36      122615.82\n",
      "58      132963.95\n",
      "63      128855.39\n",
      "77      135288.23\n",
      "86      114525.82\n",
      "173     178470.63\n",
      "180     128959.11\n",
      "190     131682.02\n",
      "219     146378.38\n",
      "361     136468.34\n",
      "417     132010.48\n",
      "611     128108.35\n",
      "622     171288.05\n",
      "841     204542.41\n",
      "895     116478.20\n",
      "903     129098.71\n",
      "917     129123.73\n",
      "962     138456.69\n",
      "984     116583.66\n",
      "1073    120273.05\n",
      "1095    116549.66\n",
      "1105    120700.01\n",
      "1108    167286.62\n",
      "1341    129987.32\n",
      "1372    127505.80\n",
      "1471    147570.86\n",
      "1514    121766.35\n",
      "1533    116654.47\n",
      "1590    158173.60\n",
      "1665    119102.35\n",
      "1677    117236.40\n",
      "1723    148809.86\n",
      "1778    197576.18\n",
      "1800    133047.11\n",
      "1938    118455.51\n",
      "1979    127857.49\n",
      "1998    131832.82\n",
      "2016    133068.75\n",
      "2036    131093.00\n",
      "2044    165560.97\n",
      "2064    116577.62\n",
      "2071    154853.42\n",
      "2072    147026.65\n",
      "2120    120465.44\n",
      "2234    130633.84\n",
      "2336    132041.56\n",
      "2374    133163.45\n",
      "2445    118794.17\n",
      "2449    124473.91\n",
      "2454    138602.51\n",
      "2507    114215.99\n",
      "2641    156447.60\n",
      "2778    119668.47\n",
      "2792    125014.99\n",
      "2834    135159.19\n",
      "2974    120429.81\n",
      "3017    114482.74\n",
      "3050    126063.69\n",
      "3073    189129.92\n",
      "3105    122700.57\n",
      "3130    139637.62\n",
      "3158    116335.13\n",
      "3230    139399.60\n",
      "3249    114817.58\n",
      "3289    149397.70\n",
      "3413    147229.52\n",
      "3427    117806.38\n",
      "3466    152151.58\n",
      "3507    134579.79\n",
      "3564    130041.85\n",
      "3587    142843.13\n",
      "3605    134050.34\n",
      "3610    140215.20\n",
      "3647    119301.73\n",
      "3671    117824.24\n",
      "3686    117892.34\n",
      "3702    114660.77\n",
      "3807    144491.87\n",
      "3827    125008.81\n",
      "3849    125875.26\n",
      "3888    121170.10\n",
      "3921    122670.23\n",
      "3987    166017.39\n",
      "4062    134249.92\n",
      "4159    134234.13\n",
      "4310    160479.20\n",
      "4331    194796.24\n",
      "4407    189416.27\n",
      "4429    139309.25\n",
      "4514    150270.22\n",
      "4580    124025.74\n",
      "4611    117560.74\n",
      "4649    129307.95\n",
      "4674    123248.25\n",
      "4693    131333.94\n",
      "4727    157115.89\n",
      "4745    120390.55\n",
      "4848    148212.62\n",
      "4986    124576.37\n",
      "5028    153129.21\n",
      "5081    121314.07\n",
      "5229    148218.52\n",
      "5298    115128.37\n",
      "5299    123043.44\n",
      "5484    148944.14\n",
      "5490    161297.65\n",
      "5689    136755.32\n",
      "5714    129349.07\n",
      "5742    125718.80\n",
      "5811    157160.10\n",
      "5816    116392.08\n",
      "5844    136507.65\n",
      "5846    127566.08\n",
      "5926    143802.15\n",
      "5970    145896.40\n",
      "6032    117416.52\n",
      "6055    125550.39\n",
      "6062    131519.06\n",
      "6215    117413.48\n",
      "6323    162756.62\n",
      "6406    197675.05\n",
      "6518    123801.84\n",
      "6524    165588.51\n",
      "6578    166702.68\n",
      "6593    135658.26\n",
      "6694    171680.20\n",
      "6831    144102.38\n",
      "6916    115826.97\n",
      "6920    116824.46\n",
      "7004    135423.58\n",
      "7028    129945.51\n",
      "7050    170961.47\n",
      "7193    161396.01\n",
      "7244    190110.76\n",
      "7248    118420.80\n",
      "7285    133104.07\n",
      "7309    125765.23\n",
      "7312    129586.68\n",
      "7352    158166.80\n",
      "7364    115190.91\n",
      "7404    178945.35\n",
      "7480    117249.02\n",
      "7492    196915.63\n",
      "7567    148141.83\n",
      "7575    143939.78\n",
      "7692    135633.90\n",
      "7697    114689.20\n",
      "7745    146776.87\n",
      "7850    118130.19\n",
      "7854    145179.77\n",
      "7906    151382.59\n",
      "8048    129269.50\n",
      "8159    161475.87\n",
      "8327    166048.55\n",
      "8386    207249.13\n",
      "8430    129316.00\n",
      "8529    186752.05\n",
      "8598    203774.65\n",
      "8625    136682.78\n",
      "8660    124567.16\n",
      "8818    115674.35\n",
      "8887    120047.18\n",
      "8914    153228.05\n",
      "8995    127026.59\n",
      "9140    122361.47\n",
      "9197    146793.02\n",
      "9268    147303.68\n",
      "9342    119194.09\n",
      "9344    121931.19\n",
      "9479    171031.21\n",
      "9495    120220.24\n",
      "9547    125409.87\n",
      "9548    143694.71\n",
      "9587    179543.68\n",
      "9742    153662.04\n",
      "9862    121276.57\n",
      "9906    138512.91\n",
      "9910    119679.13\n",
      "9955    122291.51\n",
      "Name: Income, dtype: float64\n"
     ]
    }
   ],
   "source": [
    "# Print all values from the 'Income' column of outliers\n",
    "income_outliers_values = df.loc[income_outliers_mask, 'Income']\n",
    "\n",
    "print(\"Outlier values in the 'Income' column:\")\n",
    "print(income_outliers_values)"
   ]
  },
  {
   "cell_type": "code",
   "execution_count": 4095,
   "id": "326e018a-16c5-4364-b69f-a62ab8d10c67",
   "metadata": {
    "editable": true,
    "slideshow": {
     "slide_type": ""
    },
    "tags": []
   },
   "outputs": [
    {
     "data": {
      "text/plain": [
       "<Axes: >"
      ]
     },
     "execution_count": 4095,
     "metadata": {},
     "output_type": "execute_result"
    },
    {
     "data": {
      "image/png": "[encoded data removed]",
      "text/plain": [
       "<Figure size 640x480 with 1 Axes>"
      ]
     },
     "metadata": {},
     "output_type": "display_data"
    }
   ],
   "source": [
    "#Plotting a boxplot for VitD levels \n",
    "sns.boxplot(df['VitD_levels'])"
   ]
  },
  {
   "cell_type": "code",
   "execution_count": 4097,
   "id": "d222407a-3cea-40d7-915a-bcefa3fa6de3",
   "metadata": {
    "editable": true,
    "slideshow": {
     "slide_type": ""
    },
    "tags": []
   },
   "outputs": [
    {
     "name": "stdout",
     "output_type": "stream",
     "text": [
      "upper_limit: 39.58250727200495\n",
      "lower_limit: -0.757156480777148\n"
     ]
    }
   ],
   "source": [
    "#z-score method to detect outliers on VitD levels \n",
    "upper_limit = df['VitD_levels'].mean() + 3*df['VitD_levels'].std()\n",
    "lower_limit = df['VitD_levels'].mean() - 3*df['VitD_levels'].std()\n",
    "print('upper_limit:', upper_limit)\n",
    "print('lower_limit:', lower_limit)"
   ]
  },
  {
   "cell_type": "code",
   "execution_count": 4099,
   "id": "1c40f10c-4467-4b83-add6-1c1af0a420c5",
   "metadata": {
    "editable": true,
    "slideshow": {
     "slide_type": ""
    },
    "tags": []
   },
   "outputs": [
    {
     "name": "stdout",
     "output_type": "stream",
     "text": [
      "Number of outliers: 500\n"
     ]
    }
   ],
   "source": [
    "# Create a boolean mask for outliers # In-Text Citation: (Polanitzer)\n",
    "vitd_outliers_mask = (df['VitD_levels'] < lower_limit) | (df['VitD_levels'] > upper_limit)\n",
    "\n",
    "# Count number of outliers using the mask\n",
    "vitd_outliers = vitd_outliers_mask.sum()  # sum() counts True values in the mask\n",
    "\n",
    "print(\"Number of outliers:\", vitd_outliers)"
   ]
  },
  {
   "cell_type": "code",
   "execution_count": 4101,
   "id": "0b5c40f8-c524-48cc-b776-2504f4097c64",
   "metadata": {
    "editable": true,
    "slideshow": {
     "slide_type": ""
    },
    "tags": []
   },
   "outputs": [
    {
     "name": "stdout",
     "output_type": "stream",
     "text": [
      "Outlier values in the 'VitD' column:\n",
      "11      47.813476\n",
      "94      49.256313\n",
      "106     49.205398\n",
      "147     47.757384\n",
      "170     44.553973\n",
      "219     49.804180\n",
      "301     49.170736\n",
      "306     47.779889\n",
      "379     47.441605\n",
      "425     48.274277\n",
      "447     51.430034\n",
      "471     49.655059\n",
      "514     50.859496\n",
      "527     50.383837\n",
      "551     47.278043\n",
      "580     52.063590\n",
      "633     45.876363\n",
      "659     46.728198\n",
      "664     49.048269\n",
      "669     47.577259\n",
      "677     43.166097\n",
      "699     45.186680\n",
      "700     45.586737\n",
      "710     47.700790\n",
      "726     47.776606\n",
      "734     48.643307\n",
      "763     47.636862\n",
      "786     41.071664\n",
      "814     48.086528\n",
      "837     44.320626\n",
      "848     45.897569\n",
      "906     44.690182\n",
      "912     46.694861\n",
      "914     45.291119\n",
      "928     47.211656\n",
      "947     44.894950\n",
      "960     46.790254\n",
      "991     44.708834\n",
      "1058    45.555535\n",
      "1069    45.511174\n",
      "1077    42.740746\n",
      "1081    44.000344\n",
      "1082    46.277890\n",
      "1091    45.472825\n",
      "1132    44.185447\n",
      "1137    46.408789\n",
      "1155    47.539720\n",
      "1170    44.432400\n",
      "1221    44.169235\n",
      "1245    48.701910\n",
      "1248    46.615347\n",
      "1255    49.809996\n",
      "1296    49.573759\n",
      "1306    52.757599\n",
      "1317    50.743719\n",
      "1331    44.083263\n",
      "1336    44.989097\n",
      "1365    48.237892\n",
      "1376    44.601961\n",
      "1379    48.320087\n",
      "1387    43.544425\n",
      "1389    45.626399\n",
      "1430    49.065146\n",
      "1432    47.880767\n",
      "1443    46.717117\n",
      "1445    46.221362\n",
      "1449    49.327418\n",
      "1460    48.589736\n",
      "1516    48.706026\n",
      "1569    45.623695\n",
      "1578    47.941466\n",
      "1583    48.407724\n",
      "1584    46.597521\n",
      "1636    43.294418\n",
      "1650    47.503945\n",
      "1655    43.523084\n",
      "1679    46.189658\n",
      "1742    50.305359\n",
      "1761    47.524924\n",
      "1790    45.313041\n",
      "1798    51.671571\n",
      "1812    48.965193\n",
      "1833    46.649622\n",
      "1835    46.042956\n",
      "1847    46.044779\n",
      "1876    45.595397\n",
      "1886    46.474109\n",
      "1902    49.066264\n",
      "1923    45.320182\n",
      "1951    44.877432\n",
      "1963    53.019124\n",
      "1972    44.530125\n",
      "2039    47.102875\n",
      "2050    48.482033\n",
      "2064    45.091998\n",
      "2089    47.209761\n",
      "2148    46.106360\n",
      "2156    50.915519\n",
      "2164    45.601183\n",
      "2251    46.780193\n",
      "2274    47.561664\n",
      "2279    48.160367\n",
      "2325    46.956367\n",
      "2340    46.098324\n",
      "2344    50.882359\n",
      "2372    49.241530\n",
      "2412    48.723898\n",
      "2417    49.385647\n",
      "2422    47.521609\n",
      "2434    48.389738\n",
      "2444    49.978834\n",
      "2450    47.795221\n",
      "2484    45.906080\n",
      "2489    50.785316\n",
      "2495    46.543052\n",
      "2503    46.905900\n",
      "2557    48.874147\n",
      "2615    52.156112\n",
      "2626    46.044992\n",
      "2641    50.096711\n",
      "2650    50.759272\n",
      "2666    45.002655\n",
      "2669    46.678344\n",
      "2679    46.091784\n",
      "2711    45.928573\n",
      "2724    46.580498\n",
      "2740    48.524791\n",
      "2746    51.305309\n",
      "2777    48.675024\n",
      "2789    44.411952\n",
      "2812    44.891715\n",
      "2822    50.008714\n",
      "2828    44.075546\n",
      "2838    48.761768\n",
      "2860    47.080026\n",
      "2861    49.161876\n",
      "2885    46.897615\n",
      "2917    47.225071\n",
      "2919    45.236127\n",
      "2937    44.748382\n",
      "2943    47.126688\n",
      "2946    41.483195\n",
      "2984    49.368043\n",
      "2986    48.088297\n",
      "2999    47.620984\n",
      "3004    46.190407\n",
      "3023    46.943658\n",
      "3042    45.660153\n",
      "3048    50.123626\n",
      "3055    46.461598\n",
      "3093    48.125710\n",
      "3112    48.005747\n",
      "3128    47.021076\n",
      "3165    44.805816\n",
      "3192    50.511086\n",
      "3217    46.943292\n",
      "3244    49.351741\n",
      "3278    48.110467\n",
      "3296    45.038450\n",
      "3335    49.013013\n",
      "3338    46.976669\n",
      "3350    43.994790\n",
      "3386    50.888076\n",
      "3396    46.535776\n",
      "3414    50.190945\n",
      "3431    43.348510\n",
      "3455    50.297888\n",
      "3473    52.124137\n",
      "3495    44.631848\n",
      "3507    50.523846\n",
      "3513    46.999086\n",
      "3520    43.772301\n",
      "3532    46.427810\n",
      "3558    46.875670\n",
      "3609    47.310665\n",
      "3614    47.836309\n",
      "3628    46.599904\n",
      "3636    48.892659\n",
      "3659    44.267124\n",
      "3674    48.596254\n",
      "3695    49.247245\n",
      "3713    43.251427\n",
      "3757    46.978782\n",
      "3764    50.292574\n",
      "3773    50.854121\n",
      "3786    48.182416\n",
      "3805    45.171504\n",
      "3826    50.418751\n",
      "3827    43.186167\n",
      "3831    44.097121\n",
      "3860    47.261010\n",
      "3869    43.916930\n",
      "3872    45.293847\n",
      "3902    47.288998\n",
      "3939    45.906029\n",
      "3942    44.996835\n",
      "3982    45.534143\n",
      "3990    44.651813\n",
      "4002    50.257387\n",
      "4028    44.920388\n",
      "4034    45.744892\n",
      "4038    49.340955\n",
      "4063    47.432833\n",
      "4096    45.040077\n",
      "4101    45.958837\n",
      "4134    46.610754\n",
      "4143    44.748865\n",
      "4171    45.068515\n",
      "4199    45.676854\n",
      "4223    45.377423\n",
      "4225    43.901109\n",
      "4238    48.812126\n",
      "4243    46.798904\n",
      "4271    48.482295\n",
      "4327    50.586218\n",
      "4380    43.486330\n",
      "4420    48.672834\n",
      "4427    46.601302\n",
      "4440    47.904375\n",
      "4448    44.630930\n",
      "4457    47.588546\n",
      "4488    44.395685\n",
      "4492    46.991643\n",
      "4536    48.554682\n",
      "4551    47.577656\n",
      "4596    45.353652\n",
      "4631    42.586930\n",
      "4683    49.817558\n",
      "4707    46.730552\n",
      "4711    48.805870\n",
      "4716    49.363349\n",
      "4717    47.992254\n",
      "4734    45.740026\n",
      "4765    45.174839\n",
      "4775    48.731668\n",
      "4776    44.860647\n",
      "4784    45.613922\n",
      "4790    49.065280\n",
      "4793    48.956706\n",
      "4890    46.455242\n",
      "4960    47.968029\n",
      "4973    46.030736\n",
      "4976    47.547496\n",
      "5010    47.266651\n",
      "5011    45.205230\n",
      "5043    51.030046\n",
      "5044    46.502149\n",
      "5057    45.550013\n",
      "5064    47.820451\n",
      "5121    48.833917\n",
      "5128    44.411256\n",
      "5144    47.411888\n",
      "5156    44.832196\n",
      "5160    48.992699\n",
      "5179    42.885152\n",
      "5194    43.827927\n",
      "5215    45.336939\n",
      "5230    46.072724\n",
      "5244    46.068433\n",
      "5246    45.758312\n",
      "5286    45.978560\n",
      "5294    46.364166\n",
      "5323    47.914269\n",
      "5324    50.286092\n",
      "5359    50.389046\n",
      "5387    47.240234\n",
      "5388    46.637186\n",
      "5421    44.833226\n",
      "5441    50.210252\n",
      "5453    50.479958\n",
      "5483    48.088738\n",
      "5486    44.473625\n",
      "5499    46.629237\n",
      "5536    47.634774\n",
      "5545    47.088311\n",
      "5577    45.188435\n",
      "5587    47.027653\n",
      "5595    50.884049\n",
      "5639    48.980925\n",
      "5674    44.501198\n",
      "5685    45.861348\n",
      "5688    41.594744\n",
      "5713    45.414202\n",
      "5753    46.243208\n",
      "5774    44.949076\n",
      "5789    42.716963\n",
      "5795    48.035449\n",
      "5796    45.243963\n",
      "5797    43.680355\n",
      "5816    48.800629\n",
      "5825    50.276077\n",
      "5826    47.884671\n",
      "5839    44.213813\n",
      "5845    48.465633\n",
      "5859    47.456472\n",
      "5881    46.613086\n",
      "5903    48.006099\n",
      "5904    49.148218\n",
      "5907    49.186414\n",
      "5951    42.863449\n",
      "5959    49.735959\n",
      "5971    45.446696\n",
      "5978    45.843320\n",
      "5993    48.106222\n",
      "6015    49.317261\n",
      "6029    47.820524\n",
      "6102    48.316033\n",
      "6118    48.922230\n",
      "6148    45.905615\n",
      "6157    44.711011\n",
      "6165    47.322605\n",
      "6174    45.923537\n",
      "6195    47.798487\n",
      "6207    48.184535\n",
      "6216    48.625215\n",
      "6280    48.673783\n",
      "6294    47.768315\n",
      "6310    48.030549\n",
      "6324    47.345228\n",
      "6340    42.602036\n",
      "6346    48.550389\n",
      "6353    48.405902\n",
      "6361    43.926124\n",
      "6407    50.445725\n",
      "6409    45.752744\n",
      "6435    44.755723\n",
      "6441    45.657026\n",
      "6477    48.121221\n",
      "6511    48.981251\n",
      "6523    47.934069\n",
      "6554    45.389312\n",
      "6560    46.271365\n",
      "6562    45.696819\n",
      "6564    47.420687\n",
      "6590    47.183014\n",
      "6673    45.682780\n",
      "6706    48.861255\n",
      "6729    48.533772\n",
      "6736    47.386125\n",
      "6744    48.571574\n",
      "6776    49.519870\n",
      "6779    48.208707\n",
      "6784    49.001205\n",
      "6814    45.885910\n",
      "6826    49.947005\n",
      "6845    42.629366\n",
      "6855    46.186376\n",
      "6856    46.647301\n",
      "6863    47.856773\n",
      "6873    45.871497\n",
      "6892    46.961986\n",
      "6898    48.952471\n",
      "6905    45.648832\n",
      "6938    51.216965\n",
      "7016    42.369149\n",
      "7046    43.957992\n",
      "7079    48.479778\n",
      "7086    45.559988\n",
      "7087    46.787547\n",
      "7107    45.837304\n",
      "7127    49.901381\n",
      "7157    52.370764\n",
      "7165    45.263953\n",
      "7176    43.165447\n",
      "7185    50.091684\n",
      "7196    49.292767\n",
      "7202    48.447452\n",
      "7230    52.271584\n",
      "7234    49.386409\n",
      "7240    47.699261\n",
      "7251    44.248257\n",
      "7265    45.020389\n",
      "7270    41.224905\n",
      "7281    46.778480\n",
      "7319    46.913852\n",
      "7404    42.352953\n",
      "7470    44.848501\n",
      "7475    50.153597\n",
      "7478    43.839287\n",
      "7489    44.172329\n",
      "7527    52.117337\n",
      "7547    47.701340\n",
      "7552    46.250349\n",
      "7586    48.545015\n",
      "7625    44.554370\n",
      "7640    48.753706\n",
      "7645    47.989183\n",
      "7672    47.009550\n",
      "7679    45.655123\n",
      "7680    49.519515\n",
      "7681    45.888265\n",
      "7699    44.594293\n",
      "7701    47.008786\n",
      "7723    48.485450\n",
      "7729    47.412201\n",
      "7758    47.103641\n",
      "7760    50.958467\n",
      "7766    44.355154\n",
      "7768    45.788165\n",
      "7789    47.763801\n",
      "7853    45.507666\n",
      "7904    47.365914\n",
      "7905    47.275939\n",
      "7935    46.126003\n",
      "7941    45.099652\n",
      "8068    46.872064\n",
      "8088    46.928907\n",
      "8101    46.455287\n",
      "8142    47.970509\n",
      "8156    46.946049\n",
      "8197    40.841671\n",
      "8242    42.993573\n",
      "8254    47.444157\n",
      "8257    45.393130\n",
      "8264    48.497143\n",
      "8296    47.365674\n",
      "8297    48.793956\n",
      "8309    44.947682\n",
      "8357    50.927637\n",
      "8380    42.797099\n",
      "8410    45.395293\n",
      "8411    46.890752\n",
      "8420    43.925315\n",
      "8453    44.797472\n",
      "8459    46.805046\n",
      "8471    45.732558\n",
      "8475    48.353667\n",
      "8483    48.524226\n",
      "8530    48.325095\n",
      "8534    49.380629\n",
      "8548    44.405807\n",
      "8583    50.507740\n",
      "8604    48.988189\n",
      "8618    48.984144\n",
      "8625    43.674357\n",
      "8634    46.814188\n",
      "8656    47.549366\n",
      "8681    51.659892\n",
      "8703    45.621824\n",
      "8724    49.153000\n",
      "8731    44.345279\n",
      "8733    48.844550\n",
      "8744    48.599463\n",
      "8791    50.468199\n",
      "8793    46.425591\n",
      "8800    49.248927\n",
      "8808    48.100390\n",
      "8872    45.339874\n",
      "8902    47.279017\n",
      "8910    47.370141\n",
      "8937    47.056313\n",
      "8962    44.921115\n",
      "8976    46.261299\n",
      "8978    46.411546\n",
      "9005    48.379232\n",
      "9036    48.311111\n",
      "9051    46.542671\n",
      "9065    49.797351\n",
      "9081    47.758012\n",
      "9085    46.227855\n",
      "9095    44.590610\n",
      "9102    49.506664\n",
      "9159    43.819172\n",
      "9172    48.873723\n",
      "9179    44.824148\n",
      "9213    48.508561\n",
      "9224    46.116571\n",
      "9252    47.153018\n",
      "9256    44.499591\n",
      "9260    44.389669\n",
      "9263    44.904480\n",
      "9269    42.565008\n",
      "9288    49.223582\n",
      "9315    47.492776\n",
      "9365    47.648685\n",
      "9447    47.608873\n",
      "9459    44.542354\n",
      "9477    48.739352\n",
      "9483    47.329985\n",
      "9496    49.645549\n",
      "9498    44.862657\n",
      "9503    48.932421\n",
      "9542    45.449081\n",
      "9554    44.789365\n",
      "9592    45.959635\n",
      "9605    41.962308\n",
      "9612    45.419690\n",
      "9623    50.130577\n",
      "9679    46.232542\n",
      "9710    49.405360\n",
      "9721    47.106087\n",
      "9727    47.280109\n",
      "9790    45.407293\n",
      "9802    46.819972\n",
      "9804    45.789417\n",
      "9841    47.899167\n",
      "9907    51.202138\n",
      "9929    44.494793\n",
      "9933    45.440725\n",
      "9973    47.439599\n",
      "Name: VitD_levels, dtype: float64\n"
     ]
    }
   ],
   "source": [
    "# Print all values from the 'Vitd levels' column of outliers\n",
    "vitd_outliers_values = df.loc[vitd_outliers_mask, 'VitD_levels']\n",
    "\n",
    "print(\"Outlier values in the 'VitD' column:\")\n",
    "print(vitd_outliers_values)"
   ]
  },
  {
   "cell_type": "code",
   "execution_count": 4103,
   "id": "6c0620cc-18b6-45f9-ad48-1114369d1f62",
   "metadata": {
    "editable": true,
    "slideshow": {
     "slide_type": ""
    },
    "tags": []
   },
   "outputs": [
    {
     "data": {
      "text/plain": [
       "<Axes: >"
      ]
     },
     "execution_count": 4103,
     "metadata": {},
     "output_type": "execute_result"
    },
    {
     "data": {
      "image/png": "[encoded data removed]",
      "text/plain": [
       "<Figure size 640x480 with 1 Axes>"
      ]
     },
     "metadata": {},
     "output_type": "display_data"
    }
   ],
   "source": [
    "#visualizing the number of Doc_visits to detect outliers\n",
    "sns.boxplot(df['Doc_visits'])"
   ]
  },
  {
   "cell_type": "code",
   "execution_count": 4105,
   "id": "6bf972b2-553d-4db0-a7ed-590849485a9f",
   "metadata": {
    "editable": true,
    "slideshow": {
     "slide_type": ""
    },
    "tags": []
   },
   "outputs": [
    {
     "name": "stdout",
     "output_type": "stream",
     "text": [
      "upper_limit: 8.14940331576761\n",
      "lower_limit: 1.8749966842323893\n"
     ]
    }
   ],
   "source": [
    "# detect outliers on Doc visits \n",
    "upper_limit = df['Doc_visits'].mean() + 3*df['Doc_visits'].std()\n",
    "lower_limit = df['Doc_visits'].mean() - 3*df['Doc_visits'].std()\n",
    "print('upper_limit:', upper_limit)\n",
    "print('lower_limit:', lower_limit)"
   ]
  },
  {
   "cell_type": "code",
   "execution_count": 4107,
   "id": "bc0dd84d-f6be-42cb-974e-fb37bb831b0f",
   "metadata": {
    "editable": true,
    "slideshow": {
     "slide_type": ""
    },
    "tags": []
   },
   "outputs": [
    {
     "name": "stdout",
     "output_type": "stream",
     "text": [
      "Number of outliers: 8\n"
     ]
    }
   ],
   "source": [
    "# Create a boolean mask for outliers # In-Text Citation: (Polanitzer)\n",
    "doc_outliers_mask = (df['Doc_visits'] < lower_limit) | (df['Doc_visits'] > upper_limit)\n",
    "\n",
    "# Count number of outliers using the mask\n",
    "doc_outliers = doc_outliers_mask.sum()  # sum() counts True values in the mask\n",
    "\n",
    "print(\"Number of outliers:\", doc_outliers)"
   ]
  },
  {
   "cell_type": "code",
   "execution_count": 4109,
   "id": "db01c791-6bb2-4cc9-9bc8-f11944da65cd",
   "metadata": {
    "editable": true,
    "slideshow": {
     "slide_type": ""
    },
    "tags": []
   },
   "outputs": [
    {
     "name": "stdout",
     "output_type": "stream",
     "text": [
      "Outlier values in the 'Doc_visitsn' column:\n",
      "962     9\n",
      "2766    9\n",
      "5645    1\n",
      "5756    1\n",
      "6017    1\n",
      "6498    1\n",
      "6942    1\n",
      "7143    1\n",
      "Name: Doc_visits, dtype: int64\n"
     ]
    }
   ],
   "source": [
    "# Print all values from the 'Doc_visits' column of outliers\n",
    "doc_outliers_values = df.loc[doc_outliers_mask, 'Doc_visits']\n",
    "\n",
    "print(\"Outlier values in the 'Doc_visitsn' column:\")\n",
    "print(doc_outliers_values)"
   ]
  },
  {
   "cell_type": "code",
   "execution_count": 4111,
   "id": "11baf92a-1d82-498a-917e-a930cac8c467",
   "metadata": {
    "editable": true,
    "scrolled": true,
    "slideshow": {
     "slide_type": ""
    },
    "tags": []
   },
   "outputs": [
    {
     "data": {
      "text/plain": [
       "<Axes: >"
      ]
     },
     "execution_count": 4111,
     "metadata": {},
     "output_type": "execute_result"
    },
    {
     "data": {
      "image/png": "[encoded data removed]",
      "text/plain": [
       "<Figure size 640x480 with 1 Axes>"
      ]
     },
     "metadata": {},
     "output_type": "display_data"
    }
   ],
   "source": [
    "#visualizing the number of full meals eaten to dectect outliers \n",
    "sns.boxplot(df['Full_meals_eaten'])"
   ]
  },
  {
   "cell_type": "code",
   "execution_count": 4113,
   "id": "e584c19d-e54a-49bd-af93-66b5ff02d5e8",
   "metadata": {
    "editable": true,
    "slideshow": {
     "slide_type": ""
    },
    "tags": []
   },
   "outputs": [
    {
     "name": "stdout",
     "output_type": "stream",
     "text": [
      "upper_limit: 4.0257506790224005\n",
      "lower_limit: -2.0229506790224008\n"
     ]
    }
   ],
   "source": [
    "#method to detect outliers on Full meals eaten\n",
    "upper_limit = df['Full_meals_eaten'].mean() + 3*df['Full_meals_eaten'].std()\n",
    "lower_limit = df['Full_meals_eaten'].mean() - 3*df['Full_meals_eaten'].std()\n",
    "print('upper_limit:', upper_limit)\n",
    "print('lower_limit:', lower_limit)"
   ]
  },
  {
   "cell_type": "code",
   "execution_count": 4115,
   "id": "65b13e0e-ef88-4603-a33e-49fde4a317fa",
   "metadata": {
    "editable": true,
    "slideshow": {
     "slide_type": ""
    },
    "tags": []
   },
   "outputs": [
    {
     "name": "stdout",
     "output_type": "stream",
     "text": [
      "Number of outliers: 33\n"
     ]
    }
   ],
   "source": [
    "# Create a boolean mask for outliers\n",
    "fmeals_outliers_mask = (df['Full_meals_eaten'] < lower_limit) | (df['Full_meals_eaten'] > upper_limit)\n",
    "\n",
    "# Count number of outliers using the mask\n",
    "fmeals_outliers = fmeals_outliers_mask.sum()  # sum() counts True values in the mask\n",
    "\n",
    "print(\"Number of outliers:\", fmeals_outliers)"
   ]
  },
  {
   "cell_type": "code",
   "execution_count": 4117,
   "id": "d06e12ae-a2eb-4602-8bfd-b60a4ffed660",
   "metadata": {
    "editable": true,
    "slideshow": {
     "slide_type": ""
    },
    "tags": []
   },
   "outputs": [
    {
     "name": "stdout",
     "output_type": "stream",
     "text": [
      "Outlier values in the 'Full meals eaten' column:\n",
      "550     5\n",
      "697     5\n",
      "958     7\n",
      "1148    5\n",
      "1231    6\n",
      "1456    5\n",
      "2184    6\n",
      "2315    5\n",
      "2652    5\n",
      "2746    5\n",
      "2877    5\n",
      "2919    5\n",
      "4345    5\n",
      "4709    7\n",
      "4902    5\n",
      "5367    5\n",
      "5543    5\n",
      "5597    5\n",
      "5711    5\n",
      "5859    5\n",
      "6026    5\n",
      "6068    6\n",
      "6083    5\n",
      "6694    5\n",
      "6802    5\n",
      "7217    6\n",
      "8144    6\n",
      "8326    5\n",
      "8902    5\n",
      "8994    5\n",
      "9067    5\n",
      "9220    5\n",
      "9986    6\n",
      "Name: Full_meals_eaten, dtype: int64\n"
     ]
    }
   ],
   "source": [
    "# Print all values from the 'Full meals eaten' column of outliers\n",
    "fmeals_outliers_values = df.loc[fmeals_outliers_mask, 'Full_meals_eaten']\n",
    "\n",
    "print(\"Outlier values in the 'Full meals eaten' column:\")\n",
    "print(fmeals_outliers_values)"
   ]
  },
  {
   "cell_type": "code",
   "execution_count": 4119,
   "id": "fcfb19cd-9668-4b2a-995f-7deec11c8dc5",
   "metadata": {
    "editable": true,
    "slideshow": {
     "slide_type": ""
    },
    "tags": []
   },
   "outputs": [
    {
     "data": {
      "text/plain": [
       "<Axes: >"
      ]
     },
     "execution_count": 4119,
     "metadata": {},
     "output_type": "execute_result"
    },
    {
     "data": {
      "image/png": "[encoded data removed]",
      "text/plain": [
       "<Figure size 640x480 with 1 Axes>"
      ]
     },
     "metadata": {},
     "output_type": "display_data"
    }
   ],
   "source": [
    "#plotting the boxplot for VItD supp \n",
    "sns.boxplot(df['VitD_supp'])"
   ]
  },
  {
   "cell_type": "code",
   "execution_count": 4121,
   "id": "be05a08a-c659-4034-91af-1b6ff9f1d36e",
   "metadata": {
    "editable": true,
    "slideshow": {
     "slide_type": ""
    },
    "tags": []
   },
   "outputs": [
    {
     "name": "stdout",
     "output_type": "stream",
     "text": [
      "upper_limit: 2.2844144195850116\n",
      "lower_limit: -1.4866144195850117\n"
     ]
    }
   ],
   "source": [
    "#z-score method to detect outliers on VitD_supp\n",
    "upper_limit = df['VitD_supp'].mean() + 3*df['VitD_supp'].std()\n",
    "lower_limit = df['VitD_supp'].mean() - 3*df['VitD_supp'].std()\n",
    "print('upper_limit:', upper_limit)\n",
    "print('lower_limit:', lower_limit)"
   ]
  },
  {
   "cell_type": "code",
   "execution_count": 4123,
   "id": "b48e01c6-d5a4-4e6a-8d78-be0c4e37dc5d",
   "metadata": {
    "editable": true,
    "slideshow": {
     "slide_type": ""
    },
    "tags": []
   },
   "outputs": [
    {
     "name": "stdout",
     "output_type": "stream",
     "text": [
      "Number of outliers: 70\n"
     ]
    }
   ],
   "source": [
    "# Create a boolean mask for outliers# In-Text Citation: (Polanitzer)\n",
    "vitds_outliers_mask = (df['VitD_supp'] < lower_limit) | (df['VitD_supp'] > upper_limit)\n",
    "\n",
    "# Count number of outliers using the mask\n",
    "vitds_outliers = vitds_outliers_mask.sum()  # sum() counts True values in the mask\n",
    "\n",
    "print(\"Number of outliers:\", vitds_outliers)"
   ]
  },
  {
   "cell_type": "code",
   "execution_count": 4125,
   "id": "ed85610b-3767-44a2-8598-5db918e9fac6",
   "metadata": {
    "editable": true,
    "slideshow": {
     "slide_type": ""
    },
    "tags": []
   },
   "outputs": [
    {
     "name": "stdout",
     "output_type": "stream",
     "text": [
      "Outlier values in the 'Vitamin D Supp' column:\n",
      "62      3\n",
      "63      3\n",
      "206     3\n",
      "249     3\n",
      "837     3\n",
      "1048    3\n",
      "1342    4\n",
      "1473    3\n",
      "1660    3\n",
      "1675    3\n",
      "1712    3\n",
      "1752    3\n",
      "2128    3\n",
      "2151    3\n",
      "2308    3\n",
      "2358    3\n",
      "2533    4\n",
      "2715    4\n",
      "2956    3\n",
      "3131    5\n",
      "3215    3\n",
      "3262    3\n",
      "3493    3\n",
      "3627    3\n",
      "3814    3\n",
      "3900    3\n",
      "4002    3\n",
      "4068    3\n",
      "4158    3\n",
      "4163    3\n",
      "4296    3\n",
      "4398    3\n",
      "4406    3\n",
      "4567    3\n",
      "4844    3\n",
      "4860    3\n",
      "4999    3\n",
      "5044    3\n",
      "5216    3\n",
      "5351    3\n",
      "5533    3\n",
      "5583    3\n",
      "6216    3\n",
      "6384    3\n",
      "6415    3\n",
      "6524    3\n",
      "6732    3\n",
      "7149    3\n",
      "7180    4\n",
      "7215    3\n",
      "7217    3\n",
      "7343    3\n",
      "7412    3\n",
      "7471    3\n",
      "7473    3\n",
      "7706    3\n",
      "7889    3\n",
      "8069    3\n",
      "8245    3\n",
      "8299    3\n",
      "8349    3\n",
      "8405    3\n",
      "8493    3\n",
      "8652    3\n",
      "9015    3\n",
      "9091    4\n",
      "9589    3\n",
      "9790    3\n",
      "9908    3\n",
      "9982    3\n",
      "Name: VitD_supp, dtype: int64\n"
     ]
    }
   ],
   "source": [
    "# Print all values from the 'VitD supp' column of outliers\n",
    "vitds_outliers_values = df.loc[vitds_outliers_mask, 'VitD_supp']\n",
    "\n",
    "print(\"Outlier values in the 'Vitamin D Supp' column:\")\n",
    "print(vitds_outliers_values)"
   ]
  },
  {
   "cell_type": "code",
   "execution_count": 4127,
   "id": "86dd6e56-1147-412d-93b3-6d277b781bf6",
   "metadata": {
    "editable": true,
    "slideshow": {
     "slide_type": ""
    },
    "tags": []
   },
   "outputs": [
    {
     "data": {
      "text/plain": [
       "<Axes: >"
      ]
     },
     "execution_count": 4127,
     "metadata": {},
     "output_type": "execute_result"
    },
    {
     "data": {
      "image/png": "[encoded data removed]",
      "text/plain": [
       "<Figure size 640x480 with 1 Axes>"
      ]
     },
     "metadata": {},
     "output_type": "display_data"
    }
   ],
   "source": [
    "#Intial days boxplot to visualize outliers\n",
    "sns.boxplot(df['Initial_days'])"
   ]
  },
  {
   "cell_type": "code",
   "execution_count": 4129,
   "id": "63f39fe0-c3b7-433b-b8e2-71c32e38e5d4",
   "metadata": {
    "editable": true,
    "slideshow": {
     "slide_type": ""
    },
    "tags": []
   },
   "outputs": [
    {
     "name": "stdout",
     "output_type": "stream",
     "text": [
      "upper_limit: 109.01434825002877\n",
      "lower_limit: -40.147046168249375\n"
     ]
    }
   ],
   "source": [
    "# detect outliers on Initial days\n",
    "upper_limit = df['Initial_days'].mean() + 3*df['Initial_days'].std()\n",
    "lower_limit = df['Initial_days'].mean() - 3*df['Initial_days'].std()\n",
    "print('upper_limit:', upper_limit)\n",
    "print('lower_limit:', lower_limit)"
   ]
  },
  {
   "cell_type": "code",
   "execution_count": 4131,
   "id": "a9d66e38-6ce4-4cf4-af4c-1d51ea494975",
   "metadata": {
    "editable": true,
    "slideshow": {
     "slide_type": ""
    },
    "tags": []
   },
   "outputs": [
    {
     "name": "stdout",
     "output_type": "stream",
     "text": [
      "Number of outliers: 0\n"
     ]
    }
   ],
   "source": [
    "# Create a boolean mask for outliers # In-Text Citation: (Polanitzer)\n",
    "initial_outliers_mask = (df['Initial_days'] < lower_limit) | (df['Initial_days'] > upper_limit)\n",
    "\n",
    "# Count number of outliers using the mask\n",
    "initial_outliers = initial_outliers_mask.sum()  # sum() counts True values in the mask\n",
    "\n",
    "print(\"Number of outliers:\", initial_outliers)"
   ]
  },
  {
   "cell_type": "code",
   "execution_count": 4133,
   "id": "de85ab69-aa7d-494a-9e23-a005a016e1db",
   "metadata": {
    "editable": true,
    "slideshow": {
     "slide_type": ""
    },
    "tags": []
   },
   "outputs": [
    {
     "data": {
      "text/plain": [
       "<Axes: >"
      ]
     },
     "execution_count": 4133,
     "metadata": {},
     "output_type": "execute_result"
    },
    {
     "data": {
      "image/png": "[encoded data removed]",
      "text/plain": [
       "<Figure size 640x480 with 1 Axes>"
      ]
     },
     "metadata": {},
     "output_type": "display_data"
    }
   ],
   "source": [
    "#detect outliers using a boxplot for totalcharge \n",
    "sns.boxplot(df['TotalCharge'])"
   ]
  },
  {
   "cell_type": "code",
   "execution_count": 4135,
   "id": "475e27a7-125b-44b4-b5c3-b931c62be900",
   "metadata": {
    "editable": true,
    "slideshow": {
     "slide_type": ""
    },
    "tags": []
   },
   "outputs": [
    {
     "name": "stdout",
     "output_type": "stream",
     "text": [
      "upper_limit: 16024.212670374412\n",
      "lower_limit: -4241.136147448013\n"
     ]
    }
   ],
   "source": [
    "#z-score method to detect outliers on Total Charge\n",
    "upper_limit = df['TotalCharge'].mean() + 3*df['TotalCharge'].std()\n",
    "lower_limit = df['TotalCharge'].mean() - 3*df['TotalCharge'].std()\n",
    "print('upper_limit:', upper_limit)\n",
    "print('lower_limit:', lower_limit)"
   ]
  },
  {
   "cell_type": "code",
   "execution_count": 4137,
   "id": "88583426-af5b-44fd-867f-69c552e0d0f7",
   "metadata": {
    "editable": true,
    "slideshow": {
     "slide_type": ""
    },
    "tags": []
   },
   "outputs": [
    {
     "name": "stdout",
     "output_type": "stream",
     "text": [
      "Number of outliers: 276\n"
     ]
    }
   ],
   "source": [
    "# Create a boolean mask for outliers  # In-Text Citation: (Polanitzer)\n",
    "totalcharge_outliers_mask = (df['TotalCharge'] < lower_limit) | (df['TotalCharge'] > upper_limit) \n",
    "# Count number of outliers using the mask\n",
    "totalcharge_outliers = totalcharge_outliers_mask.sum()  # sum() counts True values in the mask\n",
    "\n",
    "print(\"Number of outliers:\", totalcharge_outliers)"
   ]
  },
  {
   "cell_type": "code",
   "execution_count": 4139,
   "id": "094cce55-6dfe-47b6-8f60-7059b073ae80",
   "metadata": {
    "editable": true,
    "slideshow": {
     "slide_type": ""
    },
    "tags": []
   },
   "outputs": [
    {
     "name": "stdout",
     "output_type": "stream",
     "text": [
      "Outlier values in the 'Total Charge' column:\n",
      "527     16053.46288\n",
      "1376    17363.11201\n",
      "1761    16538.02500\n",
      "1790    16381.50104\n",
      "1798    17194.57712\n",
      "1847    16153.98925\n",
      "1963    16194.01407\n",
      "2557    16964.31623\n",
      "2626    16242.00966\n",
      "2838    17469.99434\n",
      "2999    16173.61648\n",
      "3048    16767.47866\n",
      "3192    16417.00091\n",
      "3350    16057.31330\n",
      "3495    16223.41935\n",
      "3773    16586.74536\n",
      "4683    16858.21041\n",
      "4775    16351.26318\n",
      "4973    16509.13363\n",
      "5010    19429.73514\n",
      "5011    17927.54626\n",
      "5043    19129.30875\n",
      "5044    19157.64471\n",
      "5057    19548.93859\n",
      "5064    19930.25513\n",
      "5121    18532.83052\n",
      "5128    19201.61096\n",
      "5144    18429.10924\n",
      "5156    19719.67627\n",
      "5160    20044.52896\n",
      "5179    17450.81833\n",
      "5194    19101.58205\n",
      "5215    18022.74793\n",
      "5230    18590.72573\n",
      "5244    20647.38602\n",
      "5246    19404.98558\n",
      "5286    19303.24743\n",
      "5294    20146.04563\n",
      "5323    18575.97115\n",
      "5324    19224.18215\n",
      "5359    19556.20709\n",
      "5387    18011.04878\n",
      "5388    17259.67830\n",
      "5421    19702.13635\n",
      "5441    19894.93763\n",
      "5453    20632.44185\n",
      "5483    19367.21187\n",
      "5486    17924.82026\n",
      "5499    18648.54536\n",
      "5536    18501.00728\n",
      "5545    19579.01174\n",
      "5577    18080.28073\n",
      "5587    18885.28210\n",
      "5595    20204.98656\n",
      "5639    17029.69769\n",
      "5674    18461.63360\n",
      "5685    19154.07187\n",
      "5688    16701.46828\n",
      "5713    18447.45867\n",
      "5753    18833.16968\n",
      "5774    18481.23332\n",
      "5789    17892.94080\n",
      "5795    19041.82943\n",
      "5796    20252.43860\n",
      "5797    20520.32881\n",
      "5816    20105.31735\n",
      "5825    19365.04170\n",
      "5826    19114.95366\n",
      "5839    18384.78374\n",
      "5845    18792.16126\n",
      "5859    18889.38634\n",
      "5881    20415.07211\n",
      "5903    19761.25589\n",
      "5904    18291.87020\n",
      "5907    18961.35230\n",
      "5951    18447.57045\n",
      "5959    19103.96348\n",
      "5971    19324.85723\n",
      "5978    18436.29893\n",
      "5993    18033.27917\n",
      "6015    19260.16244\n",
      "6029    19989.41072\n",
      "6102    18039.74121\n",
      "6118    20136.14552\n",
      "6148    20418.90970\n",
      "6157    19201.66921\n",
      "6165    19063.88636\n",
      "6174    19771.51541\n",
      "6195    19606.93869\n",
      "6207    19524.12877\n",
      "6216    18913.78149\n",
      "6280    19651.50592\n",
      "6294    19078.22197\n",
      "6310    19178.63116\n",
      "6324    17701.15132\n",
      "6340    17312.76536\n",
      "6346    19662.69961\n",
      "6353    19114.48122\n",
      "6361    17375.94955\n",
      "6407    20096.70092\n",
      "6409    19606.28376\n",
      "6435    19168.08015\n",
      "6441    18135.34846\n",
      "6477    18610.14911\n",
      "6511    19441.10712\n",
      "6523    19473.07281\n",
      "6554    18360.65866\n",
      "6560    19117.59136\n",
      "6562    18882.18375\n",
      "6564    19082.18130\n",
      "6590    19156.36202\n",
      "6673    18121.91294\n",
      "6706    19318.43859\n",
      "6729    20029.20922\n",
      "6736    18415.85702\n",
      "6744    19193.55222\n",
      "6776    19451.78483\n",
      "6779    18861.04679\n",
      "6784    19786.52234\n",
      "6814    18425.13244\n",
      "6826    20435.72587\n",
      "6845    18963.48906\n",
      "6855    18828.78624\n",
      "6856    19907.79641\n",
      "6863    19051.40152\n",
      "6873    19909.74225\n",
      "6892    18210.37521\n",
      "6898    19503.34053\n",
      "6905    19764.84410\n",
      "6938    19931.18217\n",
      "7016    18904.91795\n",
      "7046    20282.93299\n",
      "7079    19749.68921\n",
      "7086    17459.98354\n",
      "7087    18005.73763\n",
      "7107    19476.65321\n",
      "7127    18870.94516\n",
      "7157    19401.65879\n",
      "7165    19795.91616\n",
      "7176    18458.88134\n",
      "7185    20266.89349\n",
      "7196    19929.03446\n",
      "7202    17915.54427\n",
      "7230    20129.36745\n",
      "7234    19423.14718\n",
      "7240    18597.19246\n",
      "7251    18475.62538\n",
      "7265    18376.27072\n",
      "7270    18294.76641\n",
      "7281    19042.43564\n",
      "7319    18254.91433\n",
      "7404    18298.40545\n",
      "7470    18564.13438\n",
      "7475    20219.85513\n",
      "7478    19031.89312\n",
      "7489    20428.04092\n",
      "7527    19679.07003\n",
      "7547    20032.38013\n",
      "7552    19234.25230\n",
      "7586    18638.38480\n",
      "7625    19610.09374\n",
      "7640    19477.01237\n",
      "7645    19144.02513\n",
      "7672    18101.34190\n",
      "7679    18550.12466\n",
      "7680    19796.90823\n",
      "7681    19031.54104\n",
      "7699    19376.42645\n",
      "7701    18530.52861\n",
      "7723    20334.26759\n",
      "7729    19694.87324\n",
      "7758    20348.89290\n",
      "7760    18602.80804\n",
      "7766    18362.47711\n",
      "7768    19529.20793\n",
      "7789    19097.85859\n",
      "7853    20241.79497\n",
      "7904    18941.21186\n",
      "7905    19025.82676\n",
      "7935    17875.61159\n",
      "7941    17155.01293\n",
      "8068    20370.76314\n",
      "8088    18298.61880\n",
      "8101    20525.30730\n",
      "8142    19326.45711\n",
      "8156    20317.26456\n",
      "8197    18421.30076\n",
      "8242    18376.23164\n",
      "8254    20019.81090\n",
      "8257    19004.32861\n",
      "8264    19163.72002\n",
      "8296    20559.00501\n",
      "8297    19681.18822\n",
      "8309    17588.54846\n",
      "8357    20087.89421\n",
      "8380    19324.27769\n",
      "8410    17581.93345\n",
      "8411    18105.62986\n",
      "8420    18405.95363\n",
      "8453    19775.12959\n",
      "8459    17729.95040\n",
      "8471    16733.30011\n",
      "8475    18467.76704\n",
      "8483    18808.61625\n",
      "8530    19456.00665\n",
      "8534    18320.51562\n",
      "8548    18576.89340\n",
      "8583    18893.78723\n",
      "8604    18479.07043\n",
      "8618    18423.26540\n",
      "8625    19209.15864\n",
      "8634    20071.60016\n",
      "8656    18893.20350\n",
      "8681    19395.59088\n",
      "8703    18439.08618\n",
      "8724    19761.15772\n",
      "8731    17564.49664\n",
      "8733    16797.15399\n",
      "8744    17073.63046\n",
      "8791    20222.72137\n",
      "8793    18207.02414\n",
      "8800    21524.22421\n",
      "8808    17846.38952\n",
      "8872    19126.10504\n",
      "8902    17207.96650\n",
      "8910    18694.00705\n",
      "8937    20204.48314\n",
      "8962    17941.54384\n",
      "8976    19883.57422\n",
      "8978    18240.96371\n",
      "9005    20673.96631\n",
      "9036    19562.63421\n",
      "9051    18622.70937\n",
      "9065    20256.47726\n",
      "9081    19409.21753\n",
      "9085    18329.12457\n",
      "9095    19644.86466\n",
      "9102    18357.06924\n",
      "9159    20562.04123\n",
      "9172    19158.82202\n",
      "9179    18807.13476\n",
      "9213    19095.71222\n",
      "9224    18888.88704\n",
      "9252    19829.86609\n",
      "9256    20052.56928\n",
      "9260    20226.13667\n",
      "9263    19005.41792\n",
      "9269    18738.91814\n",
      "9288    18742.44873\n",
      "9315    20124.57009\n",
      "9365    18091.59312\n",
      "9447    20282.10519\n",
      "9459    18116.76106\n",
      "9477    18300.60446\n",
      "9483    18557.70438\n",
      "9496    19214.93233\n",
      "9498    17679.55135\n",
      "9503    19642.06809\n",
      "9542    18878.62169\n",
      "9554    19403.18559\n",
      "9592    20466.60713\n",
      "9605    17811.98140\n",
      "9612    19092.07518\n",
      "9623    18733.93798\n",
      "9679    19150.23497\n",
      "9710    18444.01872\n",
      "9721    18935.78259\n",
      "9727    18715.00382\n",
      "9790    17696.36986\n",
      "9802    18237.14396\n",
      "9804    18871.03281\n",
      "9841    18201.94211\n",
      "9907    18792.18104\n",
      "9929    18847.70517\n",
      "9933    19409.18352\n",
      "9973    18579.48149\n",
      "Name: TotalCharge, dtype: float64\n"
     ]
    }
   ],
   "source": [
    "# Print all values from the 'Total charge' column of outliers\n",
    "totalcharge_outliers_values = df.loc[totalcharge_outliers_mask, 'TotalCharge']\n",
    "\n",
    "print(\"Outlier values in the 'Total Charge' column:\")\n",
    "print(totalcharge_outliers_values)"
   ]
  },
  {
   "cell_type": "code",
   "execution_count": 4141,
   "id": "72ad0924-abe8-4e84-ab4e-d45e6831d6f2",
   "metadata": {
    "editable": true,
    "scrolled": true,
    "slideshow": {
     "slide_type": ""
    },
    "tags": []
   },
   "outputs": [
    {
     "data": {
      "text/plain": [
       "<Axes: >"
      ]
     },
     "execution_count": 4141,
     "metadata": {},
     "output_type": "execute_result"
    },
    {
     "data": {
      "image/png": "[encoded data removed]",
      "text/plain": [
       "<Figure size 640x480 with 1 Axes>"
      ]
     },
     "metadata": {},
     "output_type": "display_data"
    }
   ],
   "source": [
    "#Plotting a boxplot to to detect outliers on Additional charges \n",
    "sns.boxplot(df['Additional_charges'])"
   ]
  },
  {
   "cell_type": "code",
   "execution_count": 4143,
   "id": "1176244c-6b71-419a-917c-2d3d03f219fc",
   "metadata": {
    "editable": true,
    "slideshow": {
     "slide_type": ""
    },
    "tags": []
   },
   "outputs": [
    {
     "name": "stdout",
     "output_type": "stream",
     "text": [
      "upper_limit: 32562.333218481188\n",
      "lower_limit: -6693.276047293986\n",
      "Number of outliers: 0\n"
     ]
    }
   ],
   "source": [
    "#z-score method to detect outliers on Additional Charges\n",
    "upper_limit = df['Additional_charges'].mean() + 3*df['Additional_charges'].std()\n",
    "lower_limit = df['Additional_charges'].mean() - 3*df['Additional_charges'].std()\n",
    "print('upper_limit:', upper_limit)\n",
    "print('lower_limit:', lower_limit)\n",
    "# Create a boolean mask for outliers # In-Text Citation: (Polanitzer)\n",
    "additionalcharge_outliers_mask = (df['Additional_charges'] < lower_limit) | (df['Additional_charges'] > upper_limit) \n",
    "# Count number of outliers using the mask\n",
    "additionalcharge_outliers = additionalcharge_outliers_mask.sum()  # sum() counts True values in the mask\n",
    "\n",
    "print(\"Number of outliers:\", additionalcharge_outliers)"
   ]
  },
  {
   "cell_type": "code",
   "execution_count": 4145,
   "id": "aa1ef1a3-de2a-49f5-b70d-5f2ca5785070",
   "metadata": {
    "editable": true,
    "slideshow": {
     "slide_type": ""
    },
    "tags": []
   },
   "outputs": [
    {
     "data": {
      "text/plain": [
       "array(['Suburban', 'Urban', 'Rural'], dtype=object)"
      ]
     },
     "execution_count": 4145,
     "metadata": {},
     "output_type": "execute_result"
    }
   ],
   "source": [
    "#checking qualitative variables for their distinct categories or values that the variable contains\n",
    "df.Area.unique()"
   ]
  },
  {
   "cell_type": "code",
   "execution_count": 4147,
   "id": "0667e3aa-1c5c-40e3-83af-812b71617769",
   "metadata": {
    "editable": true,
    "slideshow": {
     "slide_type": ""
    },
    "tags": []
   },
   "outputs": [
    {
     "data": {
      "text/plain": [
       "array(['America/Chicago', 'America/New_York', 'America/Los_Angeles',\n",
       "       'America/Indiana/Indianapolis', 'America/Detroit',\n",
       "       'America/Denver', 'America/Nome', 'America/Anchorage',\n",
       "       'America/Phoenix', 'America/Boise', 'America/Puerto_Rico',\n",
       "       'America/Yakutat', 'Pacific/Honolulu', 'America/Menominee',\n",
       "       'America/Kentucky/Louisville', 'America/Indiana/Vincennes',\n",
       "       'America/Toronto', 'America/Indiana/Marengo',\n",
       "       'America/Indiana/Winamac', 'America/Indiana/Tell_City',\n",
       "       'America/Sitka', 'America/Indiana/Knox',\n",
       "       'America/North_Dakota/New_Salem', 'America/Indiana/Vevay',\n",
       "       'America/Adak', 'America/North_Dakota/Beulah'], dtype=object)"
      ]
     },
     "execution_count": 4147,
     "metadata": {},
     "output_type": "execute_result"
    }
   ],
   "source": [
    "df.Timezone.unique()"
   ]
  },
  {
   "cell_type": "code",
   "execution_count": 4149,
   "id": "4daf5405-12b4-4696-8a64-ea0880aea9c9",
   "metadata": {
    "editable": true,
    "slideshow": {
     "slide_type": ""
    },
    "tags": []
   },
   "outputs": [
    {
     "data": {
      "text/plain": [
       "array(['Some College, Less than 1 Year',\n",
       "       'Some College, 1 or More Years, No Degree',\n",
       "       'GED or Alternative Credential', 'Regular High School Diploma',\n",
       "       \"Bachelor's Degree\", \"Master's Degree\",\n",
       "       'Nursery School to 8th Grade',\n",
       "       '9th Grade to 12th Grade, No Diploma', 'Doctorate Degree',\n",
       "       \"Associate's Degree\", 'Professional School Degree',\n",
       "       'No Schooling Completed'], dtype=object)"
      ]
     },
     "execution_count": 4149,
     "metadata": {},
     "output_type": "execute_result"
    }
   ],
   "source": [
    "df.Education.unique()"
   ]
  },
  {
   "cell_type": "code",
   "execution_count": 4151,
   "id": "07f4fa0d-2b7e-4184-980d-9a8a220f5017",
   "metadata": {
    "editable": true,
    "slideshow": {
     "slide_type": ""
    },
    "tags": []
   },
   "outputs": [
    {
     "data": {
      "text/plain": [
       "array(['Full Time', 'Retired', 'Unemployed', 'Student', 'Part Time'],\n",
       "      dtype=object)"
      ]
     },
     "execution_count": 4151,
     "metadata": {},
     "output_type": "execute_result"
    }
   ],
   "source": [
    "df.Employment.unique()"
   ]
  },
  {
   "cell_type": "code",
   "execution_count": 4153,
   "id": "1c602f50-2212-4d17-b0be-fdce80955f68",
   "metadata": {
    "editable": true,
    "slideshow": {
     "slide_type": ""
    },
    "tags": []
   },
   "outputs": [
    {
     "data": {
      "text/plain": [
       "array(['Divorced', 'Married', 'Widowed', 'Never Married', 'Separated'],\n",
       "      dtype=object)"
      ]
     },
     "execution_count": 4153,
     "metadata": {},
     "output_type": "execute_result"
    }
   ],
   "source": [
    "df.Marital.unique()"
   ]
  },
  {
   "cell_type": "code",
   "execution_count": 4155,
   "id": "e6219e8c-53b0-4722-9d96-727394a67538",
   "metadata": {
    "editable": true,
    "slideshow": {
     "slide_type": ""
    },
    "tags": []
   },
   "outputs": [
    {
     "data": {
      "text/plain": [
       "array(['No', 'Yes'], dtype=object)"
      ]
     },
     "execution_count": 4155,
     "metadata": {},
     "output_type": "execute_result"
    }
   ],
   "source": [
    "df.ReAdmis.unique()"
   ]
  },
  {
   "cell_type": "code",
   "execution_count": 4157,
   "id": "09b31eaf-566f-42f2-a938-70b3c424ee86",
   "metadata": {
    "editable": true,
    "slideshow": {
     "slide_type": ""
    },
    "tags": []
   },
   "outputs": [
    {
     "data": {
      "text/plain": [
       "array(['No', 'Yes'], dtype=object)"
      ]
     },
     "execution_count": 4157,
     "metadata": {},
     "output_type": "execute_result"
    }
   ],
   "source": [
    "df.Soft_drink.unique()"
   ]
  },
  {
   "cell_type": "code",
   "execution_count": 4159,
   "id": "86e7c4c3-25ab-4aa8-8728-8907c3b63d46",
   "metadata": {
    "editable": true,
    "slideshow": {
     "slide_type": ""
    },
    "tags": []
   },
   "outputs": [
    {
     "data": {
      "text/plain": [
       "array(['Emergency Admission', 'Elective Admission',\n",
       "       'Observation Admission'], dtype=object)"
      ]
     },
     "execution_count": 4159,
     "metadata": {},
     "output_type": "execute_result"
    }
   ],
   "source": [
    "df.Initial_admin.unique()"
   ]
  },
  {
   "cell_type": "code",
   "execution_count": 4161,
   "id": "6f2ddefc-2898-4337-bb59-a27729d9dd1b",
   "metadata": {
    "editable": true,
    "slideshow": {
     "slide_type": ""
    },
    "tags": []
   },
   "outputs": [
    {
     "data": {
      "text/plain": [
       "array(['Yes', 'No'], dtype=object)"
      ]
     },
     "execution_count": 4161,
     "metadata": {},
     "output_type": "execute_result"
    }
   ],
   "source": [
    "df.HighBlood.unique()"
   ]
  },
  {
   "cell_type": "code",
   "execution_count": 4163,
   "id": "a57accfc-4d6f-4493-9e98-e1c8f2efe562",
   "metadata": {
    "editable": true,
    "slideshow": {
     "slide_type": ""
    },
    "tags": []
   },
   "outputs": [
    {
     "data": {
      "text/plain": [
       "array(['No', 'Yes'], dtype=object)"
      ]
     },
     "execution_count": 4163,
     "metadata": {},
     "output_type": "execute_result"
    }
   ],
   "source": [
    "df.Stroke.unique()"
   ]
  },
  {
   "cell_type": "code",
   "execution_count": 4165,
   "id": "11c850b6-1cb6-4154-95bb-205e990bf28c",
   "metadata": {
    "editable": true,
    "slideshow": {
     "slide_type": ""
    },
    "tags": []
   },
   "outputs": [
    {
     "data": {
      "text/plain": [
       "array(['Medium', 'High', 'Low'], dtype=object)"
      ]
     },
     "execution_count": 4165,
     "metadata": {},
     "output_type": "execute_result"
    }
   ],
   "source": [
    "df.Complication_risk.unique()"
   ]
  },
  {
   "cell_type": "code",
   "execution_count": 4167,
   "id": "9b3ab93b-c100-4588-9c5f-9a779b2c30f2",
   "metadata": {
    "editable": true,
    "slideshow": {
     "slide_type": ""
    },
    "tags": []
   },
   "outputs": [
    {
     "name": "stdout",
     "output_type": "stream",
     "text": [
      "index                   int64\n",
      "CaseOrder               int64\n",
      "Customer_id            object\n",
      "Interaction            object\n",
      "UID                    object\n",
      "City                   object\n",
      "State                  object\n",
      "County                 object\n",
      "Zip                     int64\n",
      "Lat                   float64\n",
      "Lng                   float64\n",
      "Population              int64\n",
      "Area                   object\n",
      "Timezone               object\n",
      "Job                    object\n",
      "Children              float64\n",
      "Age                   float64\n",
      "Education              object\n",
      "Employment             object\n",
      "Income                float64\n",
      "Marital                object\n",
      "Gender                 object\n",
      "ReAdmis                object\n",
      "VitD_levels           float64\n",
      "Doc_visits              int64\n",
      "Full_meals_eaten        int64\n",
      "VitD_supp               int64\n",
      "Soft_drink             object\n",
      "Initial_admin          object\n",
      "HighBlood              object\n",
      "Stroke                 object\n",
      "Complication_risk      object\n",
      "Overweight             object\n",
      "Arthritis              object\n",
      "Diabetes               object\n",
      "Hyperlipidemia         object\n",
      "BackPain               object\n",
      "Anxiety               float64\n",
      "Allergic_rhinitis      object\n",
      "Reflux_esophagitis     object\n",
      "Asthma                 object\n",
      "Services               object\n",
      "Initial_days          float64\n",
      "TotalCharge           float64\n",
      "Additional_charges    float64\n",
      "Item1                   int64\n",
      "Item2                   int64\n",
      "Item3                   int64\n",
      "Item4                   int64\n",
      "Item5                   int64\n",
      "Item6                   int64\n",
      "Item7                   int64\n",
      "Item8                   int64\n",
      "dtype: object\n"
     ]
    }
   ],
   "source": [
    "# Convert 'Overweight' column from float to string\n",
    "df['Overweight'] = df['Overweight'].astype(str)\n",
    "# Check the updated data types\n",
    "print(df.dtypes)"
   ]
  },
  {
   "cell_type": "code",
   "execution_count": 4169,
   "id": "d3cb27ff-b9fb-450d-964e-5265000218e4",
   "metadata": {
    "editable": true,
    "slideshow": {
     "slide_type": ""
    },
    "tags": []
   },
   "outputs": [
    {
     "data": {
      "text/plain": [
       "array(['0.0', '1.0'], dtype=object)"
      ]
     },
     "execution_count": 4169,
     "metadata": {},
     "output_type": "execute_result"
    }
   ],
   "source": [
    "df.Overweight.unique()"
   ]
  },
  {
   "cell_type": "code",
   "execution_count": 4171,
   "id": "2ffe3f4d-0aa3-4eab-98a1-b4422b2a0a45",
   "metadata": {
    "editable": true,
    "slideshow": {
     "slide_type": ""
    },
    "tags": []
   },
   "outputs": [
    {
     "data": {
      "text/plain": [
       "array(['Yes', 'No'], dtype=object)"
      ]
     },
     "execution_count": 4171,
     "metadata": {},
     "output_type": "execute_result"
    }
   ],
   "source": [
    "df.Arthritis.unique()"
   ]
  },
  {
   "cell_type": "code",
   "execution_count": 4173,
   "id": "36484b5d-c522-4c03-96a1-b1c4687dea23",
   "metadata": {
    "editable": true,
    "slideshow": {
     "slide_type": ""
    },
    "tags": []
   },
   "outputs": [
    {
     "data": {
      "text/plain": [
       "array(['Yes', 'No'], dtype=object)"
      ]
     },
     "execution_count": 4173,
     "metadata": {},
     "output_type": "execute_result"
    }
   ],
   "source": [
    "df.Diabetes.unique()"
   ]
  },
  {
   "cell_type": "code",
   "execution_count": 4175,
   "id": "bcc1987e-ec97-454e-a3b4-7c824f6c8a62",
   "metadata": {
    "editable": true,
    "slideshow": {
     "slide_type": ""
    },
    "tags": []
   },
   "outputs": [
    {
     "data": {
      "text/plain": [
       "array(['No', 'Yes'], dtype=object)"
      ]
     },
     "execution_count": 4175,
     "metadata": {},
     "output_type": "execute_result"
    }
   ],
   "source": [
    "df.Hyperlipidemia.unique()"
   ]
  },
  {
   "cell_type": "code",
   "execution_count": 4177,
   "id": "0e98b98d-0bea-44f8-822d-3f272139ffe0",
   "metadata": {
    "editable": true,
    "slideshow": {
     "slide_type": ""
    },
    "tags": []
   },
   "outputs": [
    {
     "data": {
      "text/plain": [
       "array(['Yes', 'No'], dtype=object)"
      ]
     },
     "execution_count": 4177,
     "metadata": {},
     "output_type": "execute_result"
    }
   ],
   "source": [
    "df.BackPain.unique()"
   ]
  },
  {
   "cell_type": "code",
   "execution_count": 4179,
   "id": "0e9d1872-ef7c-41c7-a535-60a984de2648",
   "metadata": {
    "editable": true,
    "slideshow": {
     "slide_type": ""
    },
    "tags": []
   },
   "outputs": [
    {
     "data": {
      "text/plain": [
       "array([1., 0.])"
      ]
     },
     "execution_count": 4179,
     "metadata": {},
     "output_type": "execute_result"
    }
   ],
   "source": [
    "df.Anxiety.unique()"
   ]
  },
  {
   "cell_type": "code",
   "execution_count": 4181,
   "id": "1dd46463-4f3c-4ddf-815e-a173ac6a878a",
   "metadata": {
    "editable": true,
    "slideshow": {
     "slide_type": ""
    },
    "tags": []
   },
   "outputs": [
    {
     "data": {
      "text/plain": [
       "array(['Yes', 'No'], dtype=object)"
      ]
     },
     "execution_count": 4181,
     "metadata": {},
     "output_type": "execute_result"
    }
   ],
   "source": [
    "df.Allergic_rhinitis.unique()"
   ]
  },
  {
   "cell_type": "code",
   "execution_count": 4183,
   "id": "495dea19-78b5-4167-bc40-c63f4c50f73b",
   "metadata": {
    "editable": true,
    "slideshow": {
     "slide_type": ""
    },
    "tags": []
   },
   "outputs": [
    {
     "data": {
      "text/plain": [
       "array(['No', 'Yes'], dtype=object)"
      ]
     },
     "execution_count": 4183,
     "metadata": {},
     "output_type": "execute_result"
    }
   ],
   "source": [
    "df.Reflux_esophagitis.unique()"
   ]
  },
  {
   "cell_type": "code",
   "execution_count": 4185,
   "id": "5de0698b-85ff-435a-b58e-c479d9c621e3",
   "metadata": {
    "editable": true,
    "slideshow": {
     "slide_type": ""
    },
    "tags": []
   },
   "outputs": [
    {
     "data": {
      "text/plain": [
       "array(['Yes', 'No'], dtype=object)"
      ]
     },
     "execution_count": 4185,
     "metadata": {},
     "output_type": "execute_result"
    }
   ],
   "source": [
    "df.Asthma.unique()"
   ]
  },
  {
   "cell_type": "code",
   "execution_count": 4187,
   "id": "abb584f8-8d61-4df3-89bc-d963a6cdab33",
   "metadata": {
    "editable": true,
    "slideshow": {
     "slide_type": ""
    },
    "tags": []
   },
   "outputs": [
    {
     "data": {
      "text/plain": [
       "array(['Blood Work', 'Intravenous', 'CT Scan', 'MRI'], dtype=object)"
      ]
     },
     "execution_count": 4187,
     "metadata": {},
     "output_type": "execute_result"
    }
   ],
   "source": [
    "df.Services.unique()"
   ]
  },
  {
   "cell_type": "code",
   "execution_count": 4189,
   "id": "4bf5a018-caa7-4b09-9f8c-7bd2790119f7",
   "metadata": {
    "editable": true,
    "slideshow": {
     "slide_type": ""
    },
    "tags": []
   },
   "outputs": [
    {
     "data": {
      "text/plain": [
       "array([3, 2, 4, 1, 5, 7, 6, 8], dtype=int64)"
      ]
     },
     "execution_count": 4189,
     "metadata": {},
     "output_type": "execute_result"
    }
   ],
   "source": [
    "df.Item1.unique()"
   ]
  },
  {
   "cell_type": "code",
   "execution_count": 4191,
   "id": "8e2ac3e2-cfcc-473b-8381-7add04e9b7c0",
   "metadata": {
    "editable": true,
    "slideshow": {
     "slide_type": ""
    },
    "tags": []
   },
   "outputs": [
    {
     "data": {
      "text/plain": [
       "array([3, 4, 5, 1, 2, 6, 7], dtype=int64)"
      ]
     },
     "execution_count": 4191,
     "metadata": {},
     "output_type": "execute_result"
    }
   ],
   "source": [
    "df.Item2.unique()"
   ]
  },
  {
   "cell_type": "code",
   "execution_count": 4193,
   "id": "1c9e14e1-bab0-40b1-a0fd-501a1145d416",
   "metadata": {
    "editable": true,
    "slideshow": {
     "slide_type": ""
    },
    "tags": []
   },
   "outputs": [
    {
     "data": {
      "text/plain": [
       "array([2, 3, 4, 5, 1, 6, 7, 8], dtype=int64)"
      ]
     },
     "execution_count": 4193,
     "metadata": {},
     "output_type": "execute_result"
    }
   ],
   "source": [
    "df.Item3.unique()"
   ]
  },
  {
   "cell_type": "code",
   "execution_count": 4195,
   "id": "3eaed840-6f13-4f7c-89a8-4807d559b12a",
   "metadata": {
    "editable": true,
    "slideshow": {
     "slide_type": ""
    },
    "tags": []
   },
   "outputs": [
    {
     "data": {
      "text/plain": [
       "array([2, 4, 3, 5, 6, 1, 7], dtype=int64)"
      ]
     },
     "execution_count": 4195,
     "metadata": {},
     "output_type": "execute_result"
    }
   ],
   "source": [
    "df.Item4.unique()"
   ]
  },
  {
   "cell_type": "code",
   "execution_count": 4197,
   "id": "623d770f-f8c3-4a8e-bb9a-5b860c18748a",
   "metadata": {
    "editable": true,
    "slideshow": {
     "slide_type": ""
    },
    "tags": []
   },
   "outputs": [
    {
     "data": {
      "text/plain": [
       "array([4, 3, 5, 2, 6, 1, 7], dtype=int64)"
      ]
     },
     "execution_count": 4197,
     "metadata": {},
     "output_type": "execute_result"
    }
   ],
   "source": [
    "df.Item5.unique()"
   ]
  },
  {
   "cell_type": "code",
   "execution_count": 4199,
   "id": "34fb8735-c68b-4581-b6be-a0240dd8ecc8",
   "metadata": {
    "editable": true,
    "slideshow": {
     "slide_type": ""
    },
    "tags": []
   },
   "outputs": [
    {
     "data": {
      "text/plain": [
       "array([3, 4, 5, 2, 6, 1, 7], dtype=int64)"
      ]
     },
     "execution_count": 4199,
     "metadata": {},
     "output_type": "execute_result"
    }
   ],
   "source": [
    "df.Item6.unique()"
   ]
  },
  {
   "cell_type": "code",
   "execution_count": 4201,
   "id": "21fbc221-5375-4e9f-adcb-b93b3b61e82d",
   "metadata": {
    "editable": true,
    "slideshow": {
     "slide_type": ""
    },
    "tags": []
   },
   "outputs": [
    {
     "data": {
      "text/plain": [
       "array([3, 5, 4, 2, 6, 1, 7], dtype=int64)"
      ]
     },
     "execution_count": 4201,
     "metadata": {},
     "output_type": "execute_result"
    }
   ],
   "source": [
    "df.Item7.unique()"
   ]
  },
  {
   "cell_type": "code",
   "execution_count": 4203,
   "id": "8f393e26-962c-41e5-8e8d-059730535030",
   "metadata": {
    "editable": true,
    "slideshow": {
     "slide_type": ""
    },
    "tags": []
   },
   "outputs": [
    {
     "data": {
      "text/plain": [
       "array([4, 3, 5, 6, 2, 1, 7], dtype=int64)"
      ]
     },
     "execution_count": 4203,
     "metadata": {},
     "output_type": "execute_result"
    }
   ],
   "source": [
    "df.Item8.unique()"
   ]
  },
  {
   "cell_type": "code",
   "execution_count": 4205,
   "id": "56655999-8137-4391-8132-3d62501b973c",
   "metadata": {
    "editable": true,
    "slideshow": {
     "slide_type": ""
    },
    "tags": []
   },
   "outputs": [],
   "source": [
    "#Re expressing the categorical values answered as Yes/No to numerical 0 & 1\n",
    "# Convert 'ReAdmis' column using revalue() and as.numeric()\n",
    "df['ReAdmis_num'] = df['ReAdmis']\n",
    "dict = {\"ReAdmis_num\":{ \"Yes\": 1, \"No\": 0}}\n",
    "df.replace(dict, inplace=True)"
   ]
  },
  {
   "cell_type": "code",
   "execution_count": 4207,
   "id": "d89b6054-6f26-4fb0-a0a2-a5cf2fc731d7",
   "metadata": {
    "editable": true,
    "slideshow": {
     "slide_type": ""
    },
    "tags": []
   },
   "outputs": [],
   "source": [
    "df['Soft_drink_num'] = df['Soft_drink']\n",
    "softdrink_dict = {\"Soft_drink_num\":{\"Yes\": 1, \"No\": 0}}\n",
    "df.replace(softdrink_dict, inplace=True)"
   ]
  },
  {
   "cell_type": "code",
   "execution_count": 4209,
   "id": "008cb23c-08f3-4c11-a98b-4df95e1e7eec",
   "metadata": {
    "editable": true,
    "slideshow": {
     "slide_type": ""
    },
    "tags": []
   },
   "outputs": [],
   "source": [
    "df['HighBlood_num'] = df['HighBlood']\n",
    "highblood_dict = {\"HighBlood_num\":{\"Yes\": 1, \"No\": 0}}\n",
    "df.replace(highblood_dict, inplace=True)"
   ]
  },
  {
   "cell_type": "code",
   "execution_count": 4211,
   "id": "c6b9a47c-a0c4-46ed-b418-65ceb8c4de5b",
   "metadata": {
    "editable": true,
    "slideshow": {
     "slide_type": ""
    },
    "tags": []
   },
   "outputs": [],
   "source": [
    "df['Stroke_num'] = df['Stroke']\n",
    "stroke_dict = {\"Stroke_num\":{\"Yes\": 1, \"No\": 0}}\n",
    "df.replace(stroke_dict, inplace=True)"
   ]
  },
  {
   "cell_type": "code",
   "execution_count": 4213,
   "id": "d51ad576-a048-4b3c-8890-d3de4f9ed688",
   "metadata": {
    "editable": true,
    "slideshow": {
     "slide_type": ""
    },
    "tags": []
   },
   "outputs": [],
   "source": [
    "# Define the replacement dictionary for 'Arthritis' column\n",
    "arthritis_dict = {\"Yes\": 1, \"No\": 0}\n",
    "\n",
    "# Create a new column 'Arthritis_num' with numeric values\n",
    "df['Arthritis_num'] = df['Arthritis'].replace(arthritis_dict)"
   ]
  },
  {
   "cell_type": "code",
   "execution_count": 4215,
   "id": "79fc9b1e-210a-4d3a-a6eb-c73c4b65a1f3",
   "metadata": {
    "editable": true,
    "slideshow": {
     "slide_type": ""
    },
    "tags": []
   },
   "outputs": [],
   "source": [
    "# Define the replacement dictionary for 'Diabetes' column\n",
    "diabetes_dict = {\"Yes\": 1, \"No\": 0}\n",
    "\n",
    "# Create a new column 'Diabetes_num' with numeric values\n",
    "df['Diabetes_num'] = df['Diabetes'].replace(diabetes_dict)"
   ]
  },
  {
   "cell_type": "code",
   "execution_count": 4217,
   "id": "519e5733-bce3-4fda-acc4-1a92b5d2488d",
   "metadata": {
    "editable": true,
    "slideshow": {
     "slide_type": ""
    },
    "tags": []
   },
   "outputs": [],
   "source": [
    "# Define the replacement dictionary for 'Hyperlipidemia' column\n",
    "hyperlipidemia_dict = {\"Yes\": 1, \"No\": 0}\n",
    "\n",
    "# Create a new column 'Hyperlipidemia_num' with numeric values\n",
    "df['Hyperlipidemia_num'] = df['Hyperlipidemia'].replace(hyperlipidemia_dict)"
   ]
  },
  {
   "cell_type": "code",
   "execution_count": 4219,
   "id": "7c8fad18-08c1-4877-b0bc-d606cfcb0b15",
   "metadata": {
    "editable": true,
    "slideshow": {
     "slide_type": ""
    },
    "tags": []
   },
   "outputs": [],
   "source": [
    "# Define the replacement dictionary for 'BackPain' column\n",
    "backpain_dict = {\"Yes\": 1, \"No\": 0}\n",
    "\n",
    "# Create a new column 'BackPain_num' with numeric values\n",
    "df['BackPain_num'] = df['BackPain'].replace(backpain_dict)"
   ]
  },
  {
   "cell_type": "code",
   "execution_count": 4221,
   "id": "12778d31-d2f6-4f3a-80de-82dc6e2f7672",
   "metadata": {
    "editable": true,
    "slideshow": {
     "slide_type": ""
    },
    "tags": []
   },
   "outputs": [],
   "source": [
    "# Define the replacement dictionary\n",
    "allergic_dict = {\"Yes\": 1, \"No\": 0}\n",
    "\n",
    "# Replace values in the column\n",
    "df['Allergic_rhinitis_num'] = df['Allergic_rhinitis'].replace(allergic_dict)"
   ]
  },
  {
   "cell_type": "code",
   "execution_count": 4223,
   "id": "cf52fae1-f0a2-45d0-9a60-6ac16211ca53",
   "metadata": {
    "editable": true,
    "slideshow": {
     "slide_type": ""
    },
    "tags": []
   },
   "outputs": [],
   "source": [
    "# Define the replacement dictionary for 'Reflux_esophagitis' column\n",
    "reflux_dict = {\"Yes\": 1, \"No\": 0}\n",
    "\n",
    "# Create a new column 'Reflux_esophagitis_num' with numeric values\n",
    "df['Reflux_esophagitis_num'] = df['Reflux_esophagitis'].replace(reflux_dict)"
   ]
  },
  {
   "cell_type": "code",
   "execution_count": 4225,
   "id": "493d6b1c-b7bf-4e93-a7f7-bca1b2352e99",
   "metadata": {
    "editable": true,
    "slideshow": {
     "slide_type": ""
    },
    "tags": []
   },
   "outputs": [],
   "source": [
    "# Define the replacement dictionary for 'Asthma' column\n",
    "asthma_dict = {\"Yes\": 1, \"No\": 0}\n",
    "\n",
    "# Create a new column 'Asthma_num' with numeric values\n",
    "df['Asthma_num'] = df['Asthma'].replace(asthma_dict)\n"
   ]
  },
  {
   "cell_type": "code",
   "execution_count": 4227,
   "id": "987a995b-1b0b-40fb-9aeb-24ec27eb7b0b",
   "metadata": {
    "editable": true,
    "slideshow": {
     "slide_type": ""
    },
    "tags": []
   },
   "outputs": [
    {
     "data": {
      "text/plain": [
       "array([1, 0], dtype=int64)"
      ]
     },
     "execution_count": 4227,
     "metadata": {},
     "output_type": "execute_result"
    }
   ],
   "source": [
    "df.Asthma_num.unique()"
   ]
  },
  {
   "cell_type": "code",
   "execution_count": 4229,
   "id": "80a5be1b-abb1-45a4-8cd9-9453e18c48c0",
   "metadata": {
    "editable": true,
    "slideshow": {
     "slide_type": ""
    },
    "tags": []
   },
   "outputs": [
    {
     "name": "stdout",
     "output_type": "stream",
     "text": [
      "<class 'pandas.core.frame.DataFrame'>\n",
      "RangeIndex: 10000 entries, 0 to 9999\n",
      "Data columns (total 64 columns):\n",
      " #   Column                  Non-Null Count  Dtype  \n",
      "---  ------                  --------------  -----  \n",
      " 0   index                   10000 non-null  int64  \n",
      " 1   CaseOrder               10000 non-null  int64  \n",
      " 2   Customer_id             10000 non-null  object \n",
      " 3   Interaction             10000 non-null  object \n",
      " 4   UID                     10000 non-null  object \n",
      " 5   City                    10000 non-null  object \n",
      " 6   State                   10000 non-null  object \n",
      " 7   County                  10000 non-null  object \n",
      " 8   Zip                     10000 non-null  int64  \n",
      " 9   Lat                     10000 non-null  float64\n",
      " 10  Lng                     10000 non-null  float64\n",
      " 11  Population              10000 non-null  int64  \n",
      " 12  Area                    10000 non-null  object \n",
      " 13  Timezone                10000 non-null  object \n",
      " 14  Job                     10000 non-null  object \n",
      " 15  Children                10000 non-null  float64\n",
      " 16  Age                     10000 non-null  float64\n",
      " 17  Education               10000 non-null  object \n",
      " 18  Employment              10000 non-null  object \n",
      " 19  Income                  10000 non-null  float64\n",
      " 20  Marital                 10000 non-null  object \n",
      " 21  Gender                  10000 non-null  object \n",
      " 22  ReAdmis                 10000 non-null  object \n",
      " 23  VitD_levels             10000 non-null  float64\n",
      " 24  Doc_visits              10000 non-null  int64  \n",
      " 25  Full_meals_eaten        10000 non-null  int64  \n",
      " 26  VitD_supp               10000 non-null  int64  \n",
      " 27  Soft_drink              10000 non-null  object \n",
      " 28  Initial_admin           10000 non-null  object \n",
      " 29  HighBlood               10000 non-null  object \n",
      " 30  Stroke                  10000 non-null  object \n",
      " 31  Complication_risk       10000 non-null  object \n",
      " 32  Overweight              10000 non-null  object \n",
      " 33  Arthritis               10000 non-null  object \n",
      " 34  Diabetes                10000 non-null  object \n",
      " 35  Hyperlipidemia          10000 non-null  object \n",
      " 36  BackPain                10000 non-null  object \n",
      " 37  Anxiety                 10000 non-null  float64\n",
      " 38  Allergic_rhinitis       10000 non-null  object \n",
      " 39  Reflux_esophagitis      10000 non-null  object \n",
      " 40  Asthma                  10000 non-null  object \n",
      " 41  Services                10000 non-null  object \n",
      " 42  Initial_days            10000 non-null  float64\n",
      " 43  TotalCharge             10000 non-null  float64\n",
      " 44  Additional_charges      10000 non-null  float64\n",
      " 45  Item1                   10000 non-null  int64  \n",
      " 46  Item2                   10000 non-null  int64  \n",
      " 47  Item3                   10000 non-null  int64  \n",
      " 48  Item4                   10000 non-null  int64  \n",
      " 49  Item5                   10000 non-null  int64  \n",
      " 50  Item6                   10000 non-null  int64  \n",
      " 51  Item7                   10000 non-null  int64  \n",
      " 52  Item8                   10000 non-null  int64  \n",
      " 53  ReAdmis_num             10000 non-null  int64  \n",
      " 54  Soft_drink_num          10000 non-null  int64  \n",
      " 55  HighBlood_num           10000 non-null  int64  \n",
      " 56  Stroke_num              10000 non-null  int64  \n",
      " 57  Arthritis_num           10000 non-null  int64  \n",
      " 58  Diabetes_num            10000 non-null  int64  \n",
      " 59  Hyperlipidemia_num      10000 non-null  int64  \n",
      " 60  BackPain_num            10000 non-null  int64  \n",
      " 61  Allergic_rhinitis_num   10000 non-null  int64  \n",
      " 62  Reflux_esophagitis_num  10000 non-null  int64  \n",
      " 63  Asthma_num              10000 non-null  int64  \n",
      "dtypes: float64(10), int64(26), object(28)\n",
      "memory usage: 4.9+ MB\n"
     ]
    }
   ],
   "source": [
    "df.info()"
   ]
  },
  {
   "cell_type": "code",
   "execution_count": 4231,
   "id": "50dd16e3-966a-490e-9e1a-2e6fe74f84e1",
   "metadata": {
    "editable": true,
    "slideshow": {
     "slide_type": ""
    },
    "tags": []
   },
   "outputs": [],
   "source": [
    "# Drop multiple columns in-place\n",
    "columns_to_drop = ['ReAdmis', 'Soft_drink', 'HighBlood', 'Stroke', 'Arthritis', \n",
    "                    'Diabetes', 'Hyperlipidemia', 'BackPain', 'Allergic_rhinitis', \n",
    "                    'Reflux_esophagitis', 'Asthma']\n",
    "\n",
    "df.drop(columns=columns_to_drop, inplace=True)"
   ]
  },
  {
   "cell_type": "code",
   "execution_count": 4233,
   "id": "3f84b454-7498-4341-a981-f7181b61b336",
   "metadata": {
    "editable": true,
    "slideshow": {
     "slide_type": ""
    },
    "tags": []
   },
   "outputs": [
    {
     "name": "stdout",
     "output_type": "stream",
     "text": [
      "<class 'pandas.core.frame.DataFrame'>\n",
      "RangeIndex: 10000 entries, 0 to 9999\n",
      "Data columns (total 53 columns):\n",
      " #   Column                  Non-Null Count  Dtype  \n",
      "---  ------                  --------------  -----  \n",
      " 0   index                   10000 non-null  int64  \n",
      " 1   CaseOrder               10000 non-null  int64  \n",
      " 2   Customer_id             10000 non-null  object \n",
      " 3   Interaction             10000 non-null  object \n",
      " 4   UID                     10000 non-null  object \n",
      " 5   City                    10000 non-null  object \n",
      " 6   State                   10000 non-null  object \n",
      " 7   County                  10000 non-null  object \n",
      " 8   Zip                     10000 non-null  int64  \n",
      " 9   Lat                     10000 non-null  float64\n",
      " 10  Lng                     10000 non-null  float64\n",
      " 11  Population              10000 non-null  int64  \n",
      " 12  Area                    10000 non-null  object \n",
      " 13  Timezone                10000 non-null  object \n",
      " 14  Job                     10000 non-null  object \n",
      " 15  Children                10000 non-null  float64\n",
      " 16  Age                     10000 non-null  float64\n",
      " 17  Education               10000 non-null  object \n",
      " 18  Employment              10000 non-null  object \n",
      " 19  Income                  10000 non-null  float64\n",
      " 20  Marital                 10000 non-null  object \n",
      " 21  Gender                  10000 non-null  object \n",
      " 22  VitD_levels             10000 non-null  float64\n",
      " 23  Doc_visits              10000 non-null  int64  \n",
      " 24  Full_meals_eaten        10000 non-null  int64  \n",
      " 25  VitD_supp               10000 non-null  int64  \n",
      " 26  Initial_admin           10000 non-null  object \n",
      " 27  Complication_risk       10000 non-null  object \n",
      " 28  Overweight              10000 non-null  object \n",
      " 29  Anxiety                 10000 non-null  float64\n",
      " 30  Services                10000 non-null  object \n",
      " 31  Initial_days            10000 non-null  float64\n",
      " 32  TotalCharge             10000 non-null  float64\n",
      " 33  Additional_charges      10000 non-null  float64\n",
      " 34  Item1                   10000 non-null  int64  \n",
      " 35  Item2                   10000 non-null  int64  \n",
      " 36  Item3                   10000 non-null  int64  \n",
      " 37  Item4                   10000 non-null  int64  \n",
      " 38  Item5                   10000 non-null  int64  \n",
      " 39  Item6                   10000 non-null  int64  \n",
      " 40  Item7                   10000 non-null  int64  \n",
      " 41  Item8                   10000 non-null  int64  \n",
      " 42  ReAdmis_num             10000 non-null  int64  \n",
      " 43  Soft_drink_num          10000 non-null  int64  \n",
      " 44  HighBlood_num           10000 non-null  int64  \n",
      " 45  Stroke_num              10000 non-null  int64  \n",
      " 46  Arthritis_num           10000 non-null  int64  \n",
      " 47  Diabetes_num            10000 non-null  int64  \n",
      " 48  Hyperlipidemia_num      10000 non-null  int64  \n",
      " 49  BackPain_num            10000 non-null  int64  \n",
      " 50  Allergic_rhinitis_num   10000 non-null  int64  \n",
      " 51  Reflux_esophagitis_num  10000 non-null  int64  \n",
      " 52  Asthma_num              10000 non-null  int64  \n",
      "dtypes: float64(10), int64(26), object(17)\n",
      "memory usage: 4.0+ MB\n"
     ]
    }
   ],
   "source": [
    "df.info()"
   ]
  },
  {
   "cell_type": "code",
   "execution_count": 3896,
   "id": "7d9c283b-2d13-45d1-8152-3e650aa12071",
   "metadata": {
    "editable": true,
    "slideshow": {
     "slide_type": ""
    },
    "tags": []
   },
   "outputs": [],
   "source": [
    "# Round 'age' to the nearest whole number\n",
    "df['Age'] = df['Age'].round().astype(int)"
   ]
  },
  {
   "cell_type": "code",
   "execution_count": 4235,
   "id": "c82104a3-aec6-4dde-8394-8bc2bf6c7551",
   "metadata": {
    "editable": true,
    "slideshow": {
     "slide_type": ""
    },
    "tags": []
   },
   "outputs": [],
   "source": [
    "#Export data set into an CSV \n",
    "#df.to_csv(r'C:\\D206\\output_data1.csv', index=False)"
   ]
  },
  {
   "cell_type": "code",
   "execution_count": 3872,
   "id": "20c1ed06-7082-4bd7-9342-df1b41bb166c",
   "metadata": {
    "editable": true,
    "slideshow": {
     "slide_type": ""
    },
    "tags": []
   },
   "outputs": [
    {
     "name": "stdout",
     "output_type": "stream",
     "text": [
      "   index  CaseOrder Customer_id                           Interaction  \\\n",
      "0      0          1     C412403  8cd49b13-f45a-4b47-a2bd-173ffa932c2f   \n",
      "1      1          2     Z919181  d2450b70-0337-4406-bdbb-bc1037f1734c   \n",
      "2      2          3     F995323  a2057123-abf5-4a2c-abad-8ffe33512562   \n",
      "3      3          4     A879973  1dec528d-eb34-4079-adce-0d7a40e82205   \n",
      "4      4          5     C544523  5885f56b-d6da-43a3-8760-83583af94266   \n",
      "\n",
      "                                UID          City State        County    Zip  \\\n",
      "0  3a83ddb66e2ae73798bdf1d705dc0932           Eva    AL        Morgan  35621   \n",
      "1  176354c5eef714957d486009feabf195      Marianna    FL       Jackson  32446   \n",
      "2  e19a0fa00aeda885b8a436757e889bc9   Sioux Falls    SD     Minnehaha  57110   \n",
      "3  cd17d7b6d152cb6f23957346d11c3f07  New Richland    MN        Waseca  56072   \n",
      "4  d2f0425877b10ed6bb381f3e2579424a    West Point    VA  King William  23181   \n",
      "\n",
      "        Lat  ...  Soft_drink_num  HighBlood_num Stroke_num Arthritis_num  \\\n",
      "0  34.34960  ...               0              1          0             1   \n",
      "1  30.84513  ...               0              1          0             0   \n",
      "2  43.54321  ...               0              1          0             0   \n",
      "3  43.89744  ...               0              0          1             1   \n",
      "4  37.59894  ...               1              0          0             0   \n",
      "\n",
      "  Diabetes_num  Hyperlipidemia_num  BackPain_num Allergic_rhinitis_num  \\\n",
      "0            1                   0             1                     1   \n",
      "1            0                   0             0                     0   \n",
      "2            1                   0             0                     0   \n",
      "3            0                   0             0                     0   \n",
      "4            0                   1             0                     1   \n",
      "\n",
      "  Reflux_esophagitis_num  Asthma_num  \n",
      "0                      0           1  \n",
      "1                      1           0  \n",
      "2                      0           0  \n",
      "3                      1           1  \n",
      "4                      0           0  \n",
      "\n",
      "[5 rows x 53 columns]\n"
     ]
    }
   ],
   "source": [
    "print(df.head(5))"
   ]
  },
  {
   "cell_type": "code",
   "execution_count": null,
   "id": "f072b649-48e7-48b2-8c14-73555143bfa1",
   "metadata": {
    "editable": true,
    "slideshow": {
     "slide_type": ""
    },
    "tags": []
   },
   "outputs": [],
   "source": []
  },
  {
   "cell_type": "code",
   "execution_count": 4237,
   "id": "583a2180-2a50-4a6b-bbb1-989df828ffca",
   "metadata": {
    "editable": true,
    "slideshow": {
     "slide_type": ""
    },
    "tags": []
   },
   "outputs": [],
   "source": [
    "# PCA df for quantitative variables:\n",
    "p_df = df[['Population','Children','Age','Income','VitD_levels','Doc_visits','Full_meals_eaten','VitD_supp','Initial_days','TotalCharge','Additional_charges']]"
   ]
  },
  {
   "cell_type": "code",
   "execution_count": 4239,
   "id": "cb5ec04f-45e7-449f-b72b-1c775c0dd8fa",
   "metadata": {
    "editable": true,
    "slideshow": {
     "slide_type": ""
    },
    "tags": []
   },
   "outputs": [],
   "source": [
    "# 1. Calculate Mean and Standard Deviation\n",
    "mean = p_df.mean()\n",
    "std = p_df.std()\n",
    "normalized_df = (p_df - mean) / std"
   ]
  },
  {
   "cell_type": "code",
   "execution_count": 4241,
   "id": "ee4666a4-29bd-4f37-bc13-6755e48100cf",
   "metadata": {
    "editable": true,
    "slideshow": {
     "slide_type": ""
    },
    "tags": []
   },
   "outputs": [
    {
     "name": "stdout",
     "output_type": "stream",
     "text": [
      "Number of features (columns): 11\n"
     ]
    }
   ],
   "source": [
    "# Verify the number of columns\n",
    "pca = PCA(p_df.shape[1])\n",
    "print(\"Number of features (columns):\", p_df.shape[1])"
   ]
  },
  {
   "cell_type": "code",
   "execution_count": 4243,
   "id": "042e1dac-8792-4bbf-924a-e6f2a8f95db7",
   "metadata": {
    "editable": true,
    "slideshow": {
     "slide_type": ""
    },
    "tags": []
   },
   "outputs": [
    {
     "data": {
      "text/html": [
       "<style>#sk-container-id-8 {color: black;background-color: white;}#sk-container-id-8 pre{padding: 0;}#sk-container-id-8 div.sk-toggleable {background-color: white;}#sk-container-id-8 label.sk-toggleable__label {cursor: pointer;display: block;width: 100%;margin-bottom: 0;padding: 0.3em;box-sizing: border-box;text-align: center;}#sk-container-id-8 label.sk-toggleable__label-arrow:before {content: \"▸\";float: left;margin-right: 0.25em;color: #696969;}#sk-container-id-8 label.sk-toggleable__label-arrow:hover:before {color: black;}#sk-container-id-8 div.sk-estimator:hover label.sk-toggleable__label-arrow:before {color: black;}#sk-container-id-8 div.sk-toggleable__content {max-height: 0;max-width: 0;overflow: hidden;text-align: left;background-color: #f0f8ff;}#sk-container-id-8 div.sk-toggleable__content pre {margin: 0.2em;color: black;border-radius: 0.25em;background-color: #f0f8ff;}#sk-container-id-8 input.sk-toggleable__control:checked~div.sk-toggleable__content {max-height: 200px;max-width: 100%;overflow: auto;}#sk-container-id-8 input.sk-toggleable__control:checked~label.sk-toggleable__label-arrow:before {content: \"▾\";}#sk-container-id-8 div.sk-estimator input.sk-toggleable__control:checked~label.sk-toggleable__label {background-color: #d4ebff;}#sk-container-id-8 div.sk-label input.sk-toggleable__control:checked~label.sk-toggleable__label {background-color: #d4ebff;}#sk-container-id-8 input.sk-hidden--visually {border: 0;clip: rect(1px 1px 1px 1px);clip: rect(1px, 1px, 1px, 1px);height: 1px;margin: -1px;overflow: hidden;padding: 0;position: absolute;width: 1px;}#sk-container-id-8 div.sk-estimator {font-family: monospace;background-color: #f0f8ff;border: 1px dotted black;border-radius: 0.25em;box-sizing: border-box;margin-bottom: 0.5em;}#sk-container-id-8 div.sk-estimator:hover {background-color: #d4ebff;}#sk-container-id-8 div.sk-parallel-item::after {content: \"\";width: 100%;border-bottom: 1px solid gray;flex-grow: 1;}#sk-container-id-8 div.sk-label:hover label.sk-toggleable__label {background-color: #d4ebff;}#sk-container-id-8 div.sk-serial::before {content: \"\";position: absolute;border-left: 1px solid gray;box-sizing: border-box;top: 0;bottom: 0;left: 50%;z-index: 0;}#sk-container-id-8 div.sk-serial {display: flex;flex-direction: column;align-items: center;background-color: white;padding-right: 0.2em;padding-left: 0.2em;position: relative;}#sk-container-id-8 div.sk-item {position: relative;z-index: 1;}#sk-container-id-8 div.sk-parallel {display: flex;align-items: stretch;justify-content: center;background-color: white;position: relative;}#sk-container-id-8 div.sk-item::before, #sk-container-id-8 div.sk-parallel-item::before {content: \"\";position: absolute;border-left: 1px solid gray;box-sizing: border-box;top: 0;bottom: 0;left: 50%;z-index: -1;}#sk-container-id-8 div.sk-parallel-item {display: flex;flex-direction: column;z-index: 1;position: relative;background-color: white;}#sk-container-id-8 div.sk-parallel-item:first-child::after {align-self: flex-end;width: 50%;}#sk-container-id-8 div.sk-parallel-item:last-child::after {align-self: flex-start;width: 50%;}#sk-container-id-8 div.sk-parallel-item:only-child::after {width: 0;}#sk-container-id-8 div.sk-dashed-wrapped {border: 1px dashed gray;margin: 0 0.4em 0.5em 0.4em;box-sizing: border-box;padding-bottom: 0.4em;background-color: white;}#sk-container-id-8 div.sk-label label {font-family: monospace;font-weight: bold;display: inline-block;line-height: 1.2em;}#sk-container-id-8 div.sk-label-container {text-align: center;}#sk-container-id-8 div.sk-container {/* jupyter's `normalize.less` sets `[hidden] { display: none; }` but bootstrap.min.css set `[hidden] { display: none !important; }` so we also need the `!important` here to be able to override the default hidden behavior on the sphinx rendered scikit-learn.org. See: https://github.com/scikit-learn/scikit-learn/issues/21755 */display: inline-block !important;position: relative;}#sk-container-id-8 div.sk-text-repr-fallback {display: none;}</style><div id=\"sk-container-id-8\" class=\"sk-top-container\"><div class=\"sk-text-repr-fallback\"><pre>PCA(n_components=11)</pre><b>In a Jupyter environment, please rerun this cell to show the HTML representation or trust the notebook. <br />On GitHub, the HTML representation is unable to render, please try loading this page with nbviewer.org.</b></div><div class=\"sk-container\" hidden><div class=\"sk-item\"><div class=\"sk-estimator sk-toggleable\"><input class=\"sk-toggleable__control sk-hidden--visually\" id=\"sk-estimator-id-8\" type=\"checkbox\" checked><label for=\"sk-estimator-id-8\" class=\"sk-toggleable__label sk-toggleable__label-arrow\">PCA</label><div class=\"sk-toggleable__content\"><pre>PCA(n_components=11)</pre></div></div></div></div></div>"
      ],
      "text/plain": [
       "PCA(n_components=11)"
      ]
     },
     "execution_count": 4243,
     "metadata": {},
     "output_type": "execute_result"
    }
   ],
   "source": [
    "pca.fit(normalized_df)"
   ]
  },
  {
   "cell_type": "code",
   "execution_count": 4245,
   "id": "21a4a9de-184f-470b-ae49-2060cd99d762",
   "metadata": {
    "editable": true,
    "slideshow": {
     "slide_type": ""
    },
    "tags": []
   },
   "outputs": [],
   "source": [
    "p_pca = pd.DataFrame(pca.transform(normalized_df),\n",
    "columns=['PC1', 'PC2', 'PC3', 'PC4', 'PC5', 'PC6', 'PC7', 'PC8', 'PC9', 'PC10','PC11'])"
   ]
  },
  {
   "cell_type": "code",
   "execution_count": 4247,
   "id": "d0a58fce-86a5-45fd-b45e-e6000bf1fba4",
   "metadata": {
    "editable": true,
    "slideshow": {
     "slide_type": ""
    },
    "tags": []
   },
   "outputs": [
    {
     "name": "stdout",
     "output_type": "stream",
     "text": [
      "        PC1       PC2       PC3       PC4       PC5       PC6       PC7  \\\n",
      "0 -1.098324  0.637441  0.240137  1.752100 -0.167199 -0.092814 -0.522150   \n",
      "1 -0.648772  0.548335 -0.330309  0.098459  0.859630 -0.888963  0.874991   \n",
      "2 -1.405382  0.647868 -0.505399 -1.049011  0.394383  0.774128  1.085004   \n",
      "3 -1.376965  1.144631 -1.109491 -0.340415 -0.687187 -0.330944  0.242246   \n",
      "4 -1.797761 -1.993950  0.820922 -0.305366 -1.464935 -1.240279  2.145428   \n",
      "5 -1.043891  0.997583 -0.288558  0.571227 -0.876637  0.580784  0.332227   \n",
      "6 -1.342673  0.434839 -0.193091 -0.205583 -1.543273  0.794951  0.038440   \n",
      "7 -0.632718 -1.006873 -0.512438  1.031646  2.320231  1.259187 -0.071928   \n",
      "8 -1.206579 -0.529988 -0.505289  1.646624  0.054788  1.682046 -0.205655   \n",
      "9 -0.670142  2.593074  0.956224  1.971184 -0.719129 -0.791340  1.317415   \n",
      "\n",
      "        PC8       PC9      PC10      PC11  \n",
      "0  1.163726 -1.345951  0.548678  0.023805  \n",
      "1  0.039071  1.113168  0.573366 -0.017482  \n",
      "2  0.381458  0.185217  0.500588  0.095345  \n",
      "3  1.060209 -0.167403 -0.948133 -0.056161  \n",
      "4 -1.427868 -0.013063  0.239975  0.023179  \n",
      "5  0.064059 -1.437414 -0.907994  0.162380  \n",
      "6 -0.438606 -1.204111  0.586476 -0.352057  \n",
      "7 -2.013875 -0.767990 -0.179039  0.603002  \n",
      "8  0.423380  2.172262 -0.342198  0.100154  \n",
      "9 -1.816862  0.087620  0.437526 -0.095241  \n"
     ]
    }
   ],
   "source": [
    "# 4. Create a DataFrame with principal components\n",
    "p_pca = pd.DataFrame(pca.transform(normalized_df), columns=[f'PC{i+1}' for i in range(p_df.shape[1])])\n",
    "\n",
    "print(p_pca.head(10))  # This will show the first 10 rows of the DataFrame with all columns"
   ]
  },
  {
   "cell_type": "code",
   "execution_count": 3926,
   "id": "a49be8b8-3d6c-4e2d-aac6-b5f006c4685d",
   "metadata": {
    "editable": true,
    "slideshow": {
     "slide_type": ""
    },
    "tags": []
   },
   "outputs": [
    {
     "name": "stdout",
     "output_type": "stream",
     "text": [
      "\n",
      "Eigenvalues:\n",
      "[1.95137019 0.05356901 1.61883796 0.37835537 1.05422535 1.02252024\n",
      " 0.96876577 0.97344998 0.97910595 0.99592418 1.003876  ]\n",
      "\n",
      "PCA Explained Variance (Eigenvalues):\n",
      "[1.95137019 1.61883796 1.05422535 1.02252024 1.003876   0.99592418\n",
      " 0.97910595 0.97344998 0.96876577 0.37835537 0.05356901]\n"
     ]
    },
    {
     "data": {
      "image/png": "[encoded data removed]",
      "text/plain": [
       "<Figure size 1000x600 with 1 Axes>"
      ]
     },
     "metadata": {},
     "output_type": "display_data"
    }
   ],
   "source": [
    "# 2. Compute Covariance Matrix # In-Text Citation: (Kumar)\n",
    "cov_matrix = normalized_df.cov()\n",
    "\n",
    "# 3. Compute Eigenvalues and Eigenvectors\n",
    "eigenvalues, eigenvectors = np.linalg.eig(cov_matrix)\n",
    "print(\"\\nEigenvalues:\")\n",
    "print(eigenvalues)\n",
    "\n",
    "# 4. Verify with PCA\n",
    "pca = PCA(n_components=normalized_df.shape[1])\n",
    "pca.fit(normalized_df)\n",
    "pca_eigenvalues = pca.explained_variance_\n",
    "print(\"\\nPCA Explained Variance (Eigenvalues):\")\n",
    "print(pca_eigenvalues)\n",
    "\n",
    "# 5. Plot Eigenvalues\n",
    "plt.figure(figsize=(10, 6))\n",
    "plt.plot(eigenvalues)\n",
    "plt.xlabel('Number of components')\n",
    "plt.ylabel('Eigenvalue')\n",
    "plt.title('Eigenvalues of Principal Components')\n",
    "plt.grid(True)\n",
    "plt.axhline(y = 1, color = \"red\")\n",
    "plt.xticks(range(1, len(eigenvalues) + 1))\n",
    "plt.show()"
   ]
  },
  {
   "cell_type": "code",
   "execution_count": null,
   "id": "2f3881fd-0f70-44e7-a804-35c523ec2ccf",
   "metadata": {
    "editable": true,
    "slideshow": {
     "slide_type": ""
    },
    "tags": []
   },
   "outputs": [],
   "source": []
  },
  {
   "cell_type": "code",
   "execution_count": null,
   "id": "68dfa0fb-4169-4abb-88f0-2f9f1de46e47",
   "metadata": {
    "editable": true,
    "slideshow": {
     "slide_type": ""
    },
    "tags": []
   },
   "outputs": [],
   "source": []
  },
  {
   "cell_type": "code",
   "execution_count": null,
   "id": "b92e6f60-b6df-4a1b-a59f-68104b52cc2a",
   "metadata": {
    "editable": true,
    "slideshow": {
     "slide_type": ""
    },
    "tags": []
   },
   "outputs": [],
   "source": []
  },
  {
   "cell_type": "code",
   "execution_count": null,
   "id": "ba4c90e0-78f2-44e4-9b86-10c3a5a43045",
   "metadata": {
    "editable": true,
    "slideshow": {
     "slide_type": ""
    },
    "tags": []
   },
   "outputs": [],
   "source": []
  },
  {
   "cell_type": "code",
   "execution_count": null,
   "id": "119f0b96-5000-4d88-b67b-3711b0d6a3dc",
   "metadata": {
    "editable": true,
    "slideshow": {
     "slide_type": ""
    },
    "tags": []
   },
   "outputs": [],
   "source": []
  },
  {
   "cell_type": "code",
   "execution_count": null,
   "id": "a8365eeb-2421-462b-a67d-89a1f6ad1c9a",
   "metadata": {
    "editable": true,
    "slideshow": {
     "slide_type": ""
    },
    "tags": []
   },
   "outputs": [],
   "source": []
  }
 ],
 "metadata": {
  "kernelspec": {
   "display_name": "Python 3 (ipykernel)",
   "language": "python",
   "name": "python3"
  },
  "language_info": {
   "codemirror_mode": {
    "name": "ipython",
    "version": 3
   },
   "file_extension": ".py",
   "mimetype": "text/x-python",
   "name": "python",
   "nbconvert_exporter": "python",
   "pygments_lexer": "ipython3",
   "version": "3.11.7"
  }
 },
 "nbformat": 4,
 "nbformat_minor": 5
}
